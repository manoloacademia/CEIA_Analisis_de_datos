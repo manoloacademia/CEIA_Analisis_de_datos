{
 "cells": [
  {
   "cell_type": "code",
   "execution_count": 1,
   "id": "b150cc41-5da3-4a4d-ada0-180a17128ef6",
   "metadata": {},
   "outputs": [],
   "source": [
    "# Importamos librerías\n",
    "import numpy as np\n",
    "import matplotlib.pyplot as plt\n",
    "import pandas as pd\n",
    "import seaborn as sns"
   ]
  },
  {
   "cell_type": "markdown",
   "id": "ef4fe43b-ccd4-470f-95bc-5b1467b61d58",
   "metadata": {},
   "source": [
    "### Análisis de Spotify\n",
    "Preguntas interesantes para considerar:\n",
    "- El objetivo es poder estimar si un tema nuevo del gusto de la persona que tiene esta playlist activa. En este caso la variable label corresponde a nuestra variable de salida a analizar"
   ]
  },
  {
   "cell_type": "code",
   "execution_count": 3,
   "id": "74fef9af-9a46-43f8-be03-220f55a5871c",
   "metadata": {},
   "outputs": [
    {
     "data": {
      "text/html": [
       "<div>\n",
       "<style scoped>\n",
       "    .dataframe tbody tr th:only-of-type {\n",
       "        vertical-align: middle;\n",
       "    }\n",
       "\n",
       "    .dataframe tbody tr th {\n",
       "        vertical-align: top;\n",
       "    }\n",
       "\n",
       "    .dataframe thead th {\n",
       "        text-align: right;\n",
       "    }\n",
       "</style>\n",
       "<table border=\"1\" class=\"dataframe\">\n",
       "  <thead>\n",
       "    <tr style=\"text-align: right;\">\n",
       "      <th></th>\n",
       "      <th>acousticness</th>\n",
       "      <th>danceability</th>\n",
       "      <th>duration</th>\n",
       "      <th>energy</th>\n",
       "      <th>instrumentalness</th>\n",
       "      <th>key</th>\n",
       "      <th>liveness</th>\n",
       "      <th>loudness</th>\n",
       "      <th>mode</th>\n",
       "      <th>speechiness</th>\n",
       "      <th>tempo</th>\n",
       "      <th>time_signature</th>\n",
       "      <th>valence</th>\n",
       "      <th>label</th>\n",
       "    </tr>\n",
       "  </thead>\n",
       "  <tbody>\n",
       "    <tr>\n",
       "      <th>0</th>\n",
       "      <td>0.713</td>\n",
       "      <td>0.514</td>\n",
       "      <td>100125</td>\n",
       "      <td>0.521</td>\n",
       "      <td>0.816000</td>\n",
       "      <td>8</td>\n",
       "      <td>0.1120</td>\n",
       "      <td>-14.835</td>\n",
       "      <td>0</td>\n",
       "      <td>0.0444</td>\n",
       "      <td>119.879</td>\n",
       "      <td>4</td>\n",
       "      <td>0.143</td>\n",
       "      <td>1</td>\n",
       "    </tr>\n",
       "    <tr>\n",
       "      <th>1</th>\n",
       "      <td>0.192</td>\n",
       "      <td>0.714</td>\n",
       "      <td>207019</td>\n",
       "      <td>0.614</td>\n",
       "      <td>0.000000</td>\n",
       "      <td>4</td>\n",
       "      <td>0.2630</td>\n",
       "      <td>-6.935</td>\n",
       "      <td>1</td>\n",
       "      <td>0.0319</td>\n",
       "      <td>123.969</td>\n",
       "      <td>4</td>\n",
       "      <td>0.582</td>\n",
       "      <td>1</td>\n",
       "    </tr>\n",
       "    <tr>\n",
       "      <th>2</th>\n",
       "      <td>0.333</td>\n",
       "      <td>0.630</td>\n",
       "      <td>216200</td>\n",
       "      <td>0.455</td>\n",
       "      <td>0.000004</td>\n",
       "      <td>5</td>\n",
       "      <td>0.1270</td>\n",
       "      <td>-9.290</td>\n",
       "      <td>1</td>\n",
       "      <td>0.0292</td>\n",
       "      <td>139.931</td>\n",
       "      <td>4</td>\n",
       "      <td>0.199</td>\n",
       "      <td>1</td>\n",
       "    </tr>\n",
       "    <tr>\n",
       "      <th>3</th>\n",
       "      <td>0.601</td>\n",
       "      <td>0.810</td>\n",
       "      <td>136413</td>\n",
       "      <td>0.221</td>\n",
       "      <td>0.210000</td>\n",
       "      <td>5</td>\n",
       "      <td>0.1840</td>\n",
       "      <td>-11.005</td>\n",
       "      <td>1</td>\n",
       "      <td>0.0429</td>\n",
       "      <td>109.960</td>\n",
       "      <td>4</td>\n",
       "      <td>0.798</td>\n",
       "      <td>1</td>\n",
       "    </tr>\n",
       "    <tr>\n",
       "      <th>4</th>\n",
       "      <td>0.883</td>\n",
       "      <td>0.465</td>\n",
       "      <td>181440</td>\n",
       "      <td>0.459</td>\n",
       "      <td>0.000173</td>\n",
       "      <td>6</td>\n",
       "      <td>0.0692</td>\n",
       "      <td>-8.137</td>\n",
       "      <td>0</td>\n",
       "      <td>0.0351</td>\n",
       "      <td>90.807</td>\n",
       "      <td>4</td>\n",
       "      <td>0.288</td>\n",
       "      <td>1</td>\n",
       "    </tr>\n",
       "  </tbody>\n",
       "</table>\n",
       "</div>"
      ],
      "text/plain": [
       "   acousticness  danceability  duration  energy  instrumentalness  key  \\\n",
       "0         0.713         0.514    100125   0.521          0.816000    8   \n",
       "1         0.192         0.714    207019   0.614          0.000000    4   \n",
       "2         0.333         0.630    216200   0.455          0.000004    5   \n",
       "3         0.601         0.810    136413   0.221          0.210000    5   \n",
       "4         0.883         0.465    181440   0.459          0.000173    6   \n",
       "\n",
       "   liveness  loudness  mode  speechiness    tempo  time_signature  valence  \\\n",
       "0    0.1120   -14.835     0       0.0444  119.879               4    0.143   \n",
       "1    0.2630    -6.935     1       0.0319  123.969               4    0.582   \n",
       "2    0.1270    -9.290     1       0.0292  139.931               4    0.199   \n",
       "3    0.1840   -11.005     1       0.0429  109.960               4    0.798   \n",
       "4    0.0692    -8.137     0       0.0351   90.807               4    0.288   \n",
       "\n",
       "   label  \n",
       "0      1  \n",
       "1      1  \n",
       "2      1  \n",
       "3      1  \n",
       "4      1  "
      ]
     },
     "execution_count": 3,
     "metadata": {},
     "output_type": "execute_result"
    }
   ],
   "source": [
    "# Análisis exploratorio inicial\n",
    "playlist = pd.read_csv('data_playlist.csv')\n",
    "playlist.head()"
   ]
  },
  {
   "cell_type": "code",
   "execution_count": 4,
   "id": "899b3c6f-4b19-420d-a742-941763a45f6f",
   "metadata": {},
   "outputs": [
    {
     "data": {
      "text/plain": [
       "acousticness        0\n",
       "danceability        0\n",
       "duration            0\n",
       "energy              0\n",
       "instrumentalness    0\n",
       "key                 0\n",
       "liveness            0\n",
       "loudness            0\n",
       "mode                0\n",
       "speechiness         0\n",
       "tempo               0\n",
       "time_signature      0\n",
       "valence             0\n",
       "label               0\n",
       "dtype: int64"
      ]
     },
     "execution_count": 4,
     "metadata": {},
     "output_type": "execute_result"
    }
   ],
   "source": [
    "playlist.isnull().sum()"
   ]
  },
  {
   "cell_type": "code",
   "execution_count": 5,
   "id": "7b6a78da-2b54-4961-a832-ab80274a71e1",
   "metadata": {},
   "outputs": [
    {
     "name": "stdout",
     "output_type": "stream",
     "text": [
      "columnas, filas:  (750, 14) \n",
      "\n",
      "<class 'pandas.core.frame.DataFrame'>\n",
      "RangeIndex: 750 entries, 0 to 749\n",
      "Data columns (total 14 columns):\n",
      " #   Column            Non-Null Count  Dtype  \n",
      "---  ------            --------------  -----  \n",
      " 0   acousticness      750 non-null    float64\n",
      " 1   danceability      750 non-null    float64\n",
      " 2   duration          750 non-null    int64  \n",
      " 3   energy            750 non-null    float64\n",
      " 4   instrumentalness  750 non-null    float64\n",
      " 5   key               750 non-null    int64  \n",
      " 6   liveness          750 non-null    float64\n",
      " 7   loudness          750 non-null    float64\n",
      " 8   mode              750 non-null    int64  \n",
      " 9   speechiness       750 non-null    float64\n",
      " 10  tempo             750 non-null    float64\n",
      " 11  time_signature    750 non-null    int64  \n",
      " 12  valence           750 non-null    float64\n",
      " 13  label             750 non-null    int64  \n",
      "dtypes: float64(9), int64(5)\n",
      "memory usage: 82.2 KB\n"
     ]
    }
   ],
   "source": [
    "# Vemos primero el tipo de información que tiene cada variable\n",
    "print(\"columnas, filas: \", playlist.shape, \"\\n\")\n",
    "playlist.info()"
   ]
  },
  {
   "cell_type": "markdown",
   "id": "c229465c-ff3f-49dd-807e-510704f76c7f",
   "metadata": {},
   "source": [
    "- Revisamos el detalle de los features del dataset: [Spotify for Developers](https://developer.spotify.com/documentation/web-api/reference/get-several-audio-features)"
   ]
  },
  {
   "cell_type": "markdown",
   "id": "a0cb699d-98b1-4bc9-8c54-fc3b2b236d31",
   "metadata": {},
   "source": [
    "De `.info()` podemos sacar que:\n",
    "- No existen valores no nulos, por lo tanto, no habría que rellenarlos.\n",
    "- Todos los features son numéricos, aunque no podríamos especificar el tipo todavía."
   ]
  },
  {
   "cell_type": "markdown",
   "id": "2b080697-79b0-41aa-9ac2-22547f2e40af",
   "metadata": {},
   "source": [
    "#### Acousticness"
   ]
  },
  {
   "cell_type": "code",
   "execution_count": 9,
   "id": "ab0aa9c3-3e35-4c91-ba99-dee40815da11",
   "metadata": {},
   "outputs": [
    {
     "data": {
      "image/png": "[encoded data removed]",
      "text/plain": [
       "<Figure size 432x288 with 1 Axes>"
      ]
     },
     "metadata": {
      "needs_background": "light"
     },
     "output_type": "display_data"
    }
   ],
   "source": [
    "playlist.acousticness.hist();"
   ]
  },
  {
   "cell_type": "code",
   "execution_count": 10,
   "id": "6f41878f-094b-4579-ada5-df3a65efc343",
   "metadata": {},
   "outputs": [
    {
     "data": {
      "image/png": "[encoded data removed]",
      "text/plain": [
       "<Figure size 432x288 with 1 Axes>"
      ]
     },
     "metadata": {
      "needs_background": "light"
     },
     "output_type": "display_data"
    }
   ],
   "source": [
    "# Hacemos un zoom cerca en el rango 0.0-0.2:\n",
    "plt.hist(x=playlist.acousticness, bins=10)\n",
    "plt.xlim(left=0.0, right=0.2)\n",
    "plt.show()"
   ]
  },
  {
   "cell_type": "code",
   "execution_count": 11,
   "id": "c448f1f4-31b7-4a24-b67f-890e82353f74",
   "metadata": {},
   "outputs": [
    {
     "data": {
      "image/png": "[encoded data removed]",
      "text/plain": [
       "<Figure size 432x288 with 1 Axes>"
      ]
     },
     "metadata": {
      "needs_background": "light"
     },
     "output_type": "display_data"
    }
   ],
   "source": [
    "# Hacemos un zoom cerca en el rango 0.0-0.2:\n",
    "plt.hist(x=playlist.acousticness, bins=10)\n",
    "plt.xlim(left=0.1, right=1.0)\n",
    "plt.show()"
   ]
  },
  {
   "cell_type": "markdown",
   "id": "11fba0c2-fc61-45bf-b11c-008cfe848c5a",
   "metadata": {},
   "source": [
    "- La gran mayoría de valores se encuentran debajo de 0.1.\n",
    "- El resto puede considerarse distribuido de manera uniforme."
   ]
  },
  {
   "cell_type": "code",
   "execution_count": 13,
   "id": "23cf7679-9509-4a8a-917d-04a09100117f",
   "metadata": {},
   "outputs": [
    {
     "data": {
      "text/plain": [
       "0.99200    7\n",
       "0.99000    5\n",
       "0.58600    4\n",
       "0.19400    4\n",
       "0.74100    4\n",
       "          ..\n",
       "0.03850    1\n",
       "0.00419    1\n",
       "0.04350    1\n",
       "0.50600    1\n",
       "0.01550    1\n",
       "Name: acousticness, Length: 596, dtype: int64"
      ]
     },
     "execution_count": 13,
     "metadata": {},
     "output_type": "execute_result"
    }
   ],
   "source": [
    "playlist.acousticness.value_counts().sort_values(ascending=False)"
   ]
  },
  {
   "cell_type": "markdown",
   "id": "367cf3e5-f0ab-45ef-aef1-b9393aafaad9",
   "metadata": {},
   "source": [
    "- Valores continuos entre 0 y 1.\n",
    "- La mayoría de los valores son bajos.\n",
    "- A priori, no tiene una distribución conocida.\n",
    "- ¿Existe alguna manera de explicar haciendo binning?\n",
    "- ¿Sirve enmascarar la columna en valores menores y mayores a 0.1 para darle un punto de vista de feature categórico?"
   ]
  },
  {
   "cell_type": "markdown",
   "id": "903915ea-e3a5-4fce-86ad-9777a1604670",
   "metadata": {},
   "source": [
    "#### Danceability"
   ]
  },
  {
   "cell_type": "code",
   "execution_count": 16,
   "id": "c57a35e2-89c1-49da-9bbe-e34447feb116",
   "metadata": {},
   "outputs": [
    {
     "data": {
      "image/png": "[encoded data removed]",
      "text/plain": [
       "<Figure size 432x288 with 1 Axes>"
      ]
     },
     "metadata": {
      "needs_background": "light"
     },
     "output_type": "display_data"
    }
   ],
   "source": [
    "playlist.danceability.hist();"
   ]
  },
  {
   "cell_type": "code",
   "execution_count": 17,
   "id": "fd1c8cf9-7d19-490a-b3f2-f29ccb2ff322",
   "metadata": {},
   "outputs": [],
   "source": [
    "from sklearn.preprocessing import PowerTransformer"
   ]
  },
  {
   "cell_type": "code",
   "execution_count": 18,
   "id": "aa79f27e-33f0-45ca-ae39-e5e46ed1f5e0",
   "metadata": {},
   "outputs": [],
   "source": [
    "# Aplicamos Box-Cox a los valores para ver si mejora un poco la distribución\n",
    "bc = PowerTransformer(method='box-cox')\n",
    "danc_bc = bc.fit_transform(playlist.danceability.values.reshape((750,1)))"
   ]
  },
  {
   "cell_type": "code",
   "execution_count": 19,
   "id": "58221372-580f-4e6e-bef9-a37b04196eb3",
   "metadata": {},
   "outputs": [
    {
     "data": {
      "image/png": "[encoded data removed]",
      "text/plain": [
       "<Figure size 432x288 with 1 Axes>"
      ]
     },
     "metadata": {
      "needs_background": "light"
     },
     "output_type": "display_data"
    }
   ],
   "source": [
    "danc_bc = pd.DataFrame(danc_bc)\n",
    "danc_bc.hist();"
   ]
  },
  {
   "cell_type": "code",
   "execution_count": 20,
   "id": "2988cea4-4aaf-495c-ac3c-b9fe3faf3102",
   "metadata": {},
   "outputs": [
    {
     "data": {
      "text/plain": [
       "0   -0.08915\n",
       "dtype: float64"
      ]
     },
     "execution_count": 20,
     "metadata": {},
     "output_type": "execute_result"
    }
   ],
   "source": [
    "# Calculamos el skewness\n",
    "danc_bc.skew()"
   ]
  },
  {
   "cell_type": "markdown",
   "id": "bedb94d5-b97d-4d7c-9b77-c8fe4c0fc362",
   "metadata": {},
   "source": [
    "- Valores continuos entre 0 y 1.\n",
    "- Tiene skewness.\n",
    "- Mejora el skewness luego de una transformación con Box-Cox."
   ]
  },
  {
   "cell_type": "markdown",
   "id": "d361fc7d-99d1-4efe-b1e6-0daac37c6852",
   "metadata": {},
   "source": [
    "#### Duration"
   ]
  },
  {
   "cell_type": "code",
   "execution_count": 23,
   "id": "fd26a70c-ffb3-4d28-a4c7-fdbba08f6055",
   "metadata": {},
   "outputs": [
    {
     "data": {
      "image/png": "[encoded data removed]",
      "text/plain": [
       "<Figure size 432x288 with 1 Axes>"
      ]
     },
     "metadata": {
      "needs_background": "light"
     },
     "output_type": "display_data"
    }
   ],
   "source": [
    "playlist.duration.hist();"
   ]
  },
  {
   "cell_type": "code",
   "execution_count": 24,
   "id": "d8c95f57-a11b-4464-bbfa-d52f8c2b0422",
   "metadata": {},
   "outputs": [
    {
     "data": {
      "text/plain": [
       "1.5762310506305088"
      ]
     },
     "execution_count": 24,
     "metadata": {},
     "output_type": "execute_result"
    }
   ],
   "source": [
    "# Vemos el skewness inicial\n",
    "playlist.duration.skew()"
   ]
  },
  {
   "cell_type": "code",
   "execution_count": 25,
   "id": "6fb5a4bc-6b14-40b8-8bf0-de9f88eeec34",
   "metadata": {},
   "outputs": [],
   "source": [
    "# Realizamos una función que aplique Box-Cox a los valores para ver si mejora un poco la distribución\n",
    "def bc_transf(feature):\n",
    "    bc = PowerTransformer(method='box-cox')\n",
    "    feat_bc = bc.fit_transform(playlist[feature].values.reshape((750,1)))\n",
    "    feat_bc = pd.DataFrame(feat_bc)\n",
    "    feat_bc.hist()\n",
    "    plt.title(f\"El feature {feature} con Box-Cox tiene skewness {feat_bc.skew()}\")\n",
    "    return feat_bc"
   ]
  },
  {
   "cell_type": "code",
   "execution_count": 26,
   "id": "bb3d7451-d112-4cac-8dee-dd1a8edb6a3f",
   "metadata": {},
   "outputs": [
    {
     "data": {
      "text/html": [
       "<div>\n",
       "<style scoped>\n",
       "    .dataframe tbody tr th:only-of-type {\n",
       "        vertical-align: middle;\n",
       "    }\n",
       "\n",
       "    .dataframe tbody tr th {\n",
       "        vertical-align: top;\n",
       "    }\n",
       "\n",
       "    .dataframe thead th {\n",
       "        text-align: right;\n",
       "    }\n",
       "</style>\n",
       "<table border=\"1\" class=\"dataframe\">\n",
       "  <thead>\n",
       "    <tr style=\"text-align: right;\">\n",
       "      <th></th>\n",
       "      <th>0</th>\n",
       "    </tr>\n",
       "  </thead>\n",
       "  <tbody>\n",
       "    <tr>\n",
       "      <th>0</th>\n",
       "      <td>-2.175365</td>\n",
       "    </tr>\n",
       "    <tr>\n",
       "      <th>1</th>\n",
       "      <td>-0.130681</td>\n",
       "    </tr>\n",
       "    <tr>\n",
       "      <th>2</th>\n",
       "      <td>0.015353</td>\n",
       "    </tr>\n",
       "    <tr>\n",
       "      <th>3</th>\n",
       "      <td>-1.390479</td>\n",
       "    </tr>\n",
       "    <tr>\n",
       "      <th>4</th>\n",
       "      <td>-0.556411</td>\n",
       "    </tr>\n",
       "    <tr>\n",
       "      <th>...</th>\n",
       "      <td>...</td>\n",
       "    </tr>\n",
       "    <tr>\n",
       "      <th>745</th>\n",
       "      <td>1.656701</td>\n",
       "    </tr>\n",
       "    <tr>\n",
       "      <th>746</th>\n",
       "      <td>-0.035172</td>\n",
       "    </tr>\n",
       "    <tr>\n",
       "      <th>747</th>\n",
       "      <td>-1.605952</td>\n",
       "    </tr>\n",
       "    <tr>\n",
       "      <th>748</th>\n",
       "      <td>0.519389</td>\n",
       "    </tr>\n",
       "    <tr>\n",
       "      <th>749</th>\n",
       "      <td>0.905950</td>\n",
       "    </tr>\n",
       "  </tbody>\n",
       "</table>\n",
       "<p>750 rows × 1 columns</p>\n",
       "</div>"
      ],
      "text/plain": [
       "            0\n",
       "0   -2.175365\n",
       "1   -0.130681\n",
       "2    0.015353\n",
       "3   -1.390479\n",
       "4   -0.556411\n",
       "..        ...\n",
       "745  1.656701\n",
       "746 -0.035172\n",
       "747 -1.605952\n",
       "748  0.519389\n",
       "749  0.905950\n",
       "\n",
       "[750 rows x 1 columns]"
      ]
     },
     "execution_count": 26,
     "metadata": {},
     "output_type": "execute_result"
    },
    {
     "data": {
      "image/png": "[encoded data removed]",
      "text/plain": [
       "<Figure size 432x288 with 1 Axes>"
      ]
     },
     "metadata": {
      "needs_background": "light"
     },
     "output_type": "display_data"
    }
   ],
   "source": [
    "bc_transf('duration')"
   ]
  },
  {
   "cell_type": "markdown",
   "id": "1a49f4ec-b83f-4407-bdff-059a1a460411",
   "metadata": {},
   "source": [
    "- Se ve una mejora en el skewness de la pieza luego de la transformación."
   ]
  },
  {
   "cell_type": "markdown",
   "id": "88cd5992-7710-4053-9090-057c245648cf",
   "metadata": {},
   "source": [
    "#### Energy"
   ]
  },
  {
   "cell_type": "code",
   "execution_count": 29,
   "id": "b668ec39-da71-49da-8e2a-b6c48fdbb277",
   "metadata": {},
   "outputs": [
    {
     "data": {
      "image/png": "[encoded data removed]",
      "text/plain": [
       "<Figure size 432x288 with 1 Axes>"
      ]
     },
     "metadata": {
      "needs_background": "light"
     },
     "output_type": "display_data"
    }
   ],
   "source": [
    "playlist.energy.hist();"
   ]
  },
  {
   "cell_type": "code",
   "execution_count": 30,
   "id": "9be5cbe7-3bb8-4ccc-b1f4-839e7b16e03f",
   "metadata": {},
   "outputs": [
    {
     "data": {
      "text/plain": [
       "-0.4587645952079551"
      ]
     },
     "execution_count": 30,
     "metadata": {},
     "output_type": "execute_result"
    }
   ],
   "source": [
    "playlist.energy.skew()"
   ]
  },
  {
   "cell_type": "code",
   "execution_count": 31,
   "id": "a925dcb5-8678-4676-88a3-d17a1c557cdc",
   "metadata": {},
   "outputs": [
    {
     "data": {
      "text/html": [
       "<div>\n",
       "<style scoped>\n",
       "    .dataframe tbody tr th:only-of-type {\n",
       "        vertical-align: middle;\n",
       "    }\n",
       "\n",
       "    .dataframe tbody tr th {\n",
       "        vertical-align: top;\n",
       "    }\n",
       "\n",
       "    .dataframe thead th {\n",
       "        text-align: right;\n",
       "    }\n",
       "</style>\n",
       "<table border=\"1\" class=\"dataframe\">\n",
       "  <thead>\n",
       "    <tr style=\"text-align: right;\">\n",
       "      <th></th>\n",
       "      <th>0</th>\n",
       "    </tr>\n",
       "  </thead>\n",
       "  <tbody>\n",
       "    <tr>\n",
       "      <th>0</th>\n",
       "      <td>-0.331216</td>\n",
       "    </tr>\n",
       "    <tr>\n",
       "      <th>1</th>\n",
       "      <td>0.043670</td>\n",
       "    </tr>\n",
       "    <tr>\n",
       "      <th>2</th>\n",
       "      <td>-0.591460</td>\n",
       "    </tr>\n",
       "    <tr>\n",
       "      <th>3</th>\n",
       "      <td>-1.463659</td>\n",
       "    </tr>\n",
       "    <tr>\n",
       "      <th>4</th>\n",
       "      <td>-0.575837</td>\n",
       "    </tr>\n",
       "    <tr>\n",
       "      <th>...</th>\n",
       "      <td>...</td>\n",
       "    </tr>\n",
       "    <tr>\n",
       "      <th>745</th>\n",
       "      <td>1.431606</td>\n",
       "    </tr>\n",
       "    <tr>\n",
       "      <th>746</th>\n",
       "      <td>1.103544</td>\n",
       "    </tr>\n",
       "    <tr>\n",
       "      <th>747</th>\n",
       "      <td>-1.128036</td>\n",
       "    </tr>\n",
       "    <tr>\n",
       "      <th>748</th>\n",
       "      <td>0.915508</td>\n",
       "    </tr>\n",
       "    <tr>\n",
       "      <th>749</th>\n",
       "      <td>0.716273</td>\n",
       "    </tr>\n",
       "  </tbody>\n",
       "</table>\n",
       "<p>750 rows × 1 columns</p>\n",
       "</div>"
      ],
      "text/plain": [
       "            0\n",
       "0   -0.331216\n",
       "1    0.043670\n",
       "2   -0.591460\n",
       "3   -1.463659\n",
       "4   -0.575837\n",
       "..        ...\n",
       "745  1.431606\n",
       "746  1.103544\n",
       "747 -1.128036\n",
       "748  0.915508\n",
       "749  0.716273\n",
       "\n",
       "[750 rows x 1 columns]"
      ]
     },
     "execution_count": 31,
     "metadata": {},
     "output_type": "execute_result"
    },
    {
     "data": {
      "image/png": "[encoded data removed]",
      "text/plain": [
       "<Figure size 432x288 with 1 Axes>"
      ]
     },
     "metadata": {
      "needs_background": "light"
     },
     "output_type": "display_data"
    }
   ],
   "source": [
    "# Analizamos lo mismo en esta feature\n",
    "bc_transf('energy')"
   ]
  },
  {
   "cell_type": "markdown",
   "id": "ea54dffd-31b2-433e-8fe7-2a1c5b2db4fb",
   "metadata": {},
   "source": [
    "#### Instrumentalness"
   ]
  },
  {
   "cell_type": "code",
   "execution_count": 33,
   "id": "dfb74699-8c18-43e9-996c-43c78dc07a89",
   "metadata": {},
   "outputs": [
    {
     "data": {
      "image/png": "[encoded data removed]",
      "text/plain": [
       "<Figure size 432x288 with 1 Axes>"
      ]
     },
     "metadata": {
      "needs_background": "light"
     },
     "output_type": "display_data"
    }
   ],
   "source": [
    "playlist.instrumentalness.hist();"
   ]
  },
  {
   "cell_type": "code",
   "execution_count": 34,
   "id": "8e415814-ba5f-4bc9-848e-103987efc780",
   "metadata": {},
   "outputs": [
    {
     "data": {
      "text/plain": [
       "0.000000    290\n",
       "0.000010      3\n",
       "0.000229      3\n",
       "0.872000      3\n",
       "0.000006      2\n",
       "           ... \n",
       "0.000002      1\n",
       "0.005310      1\n",
       "0.002230      1\n",
       "0.520000      1\n",
       "0.003140      1\n",
       "Name: instrumentalness, Length: 431, dtype: int64"
      ]
     },
     "execution_count": 34,
     "metadata": {},
     "output_type": "execute_result"
    }
   ],
   "source": [
    "playlist.instrumentalness.value_counts().sort_values(ascending=False)"
   ]
  },
  {
   "cell_type": "markdown",
   "id": "c25eef92-0ba5-46ac-b138-0c82522d509a",
   "metadata": {},
   "source": [
    "#### Key"
   ]
  },
  {
   "cell_type": "code",
   "execution_count": 36,
   "id": "b66812f2-c15c-49da-a640-1a3b917b2056",
   "metadata": {},
   "outputs": [
    {
     "data": {
      "image/png": "[encoded data removed]",
      "text/plain": [
       "<Figure size 432x288 with 1 Axes>"
      ]
     },
     "metadata": {
      "needs_background": "light"
     },
     "output_type": "display_data"
    }
   ],
   "source": [
    "playlist.key.hist();"
   ]
  },
  {
   "cell_type": "code",
   "execution_count": 37,
   "id": "cebc2fd2-a65c-40f6-b82a-999390e20d0b",
   "metadata": {},
   "outputs": [
    {
     "data": {
      "text/plain": [
       "0     113\n",
       "2      92\n",
       "1      85\n",
       "9      74\n",
       "5      69\n",
       "7      63\n",
       "8      51\n",
       "4      48\n",
       "10     48\n",
       "11     46\n",
       "6      44\n",
       "3      17\n",
       "Name: key, dtype: int64"
      ]
     },
     "execution_count": 37,
     "metadata": {},
     "output_type": "execute_result"
    }
   ],
   "source": [
    "playlist.key.value_counts().sort_values(ascending=False)"
   ]
  },
  {
   "cell_type": "code",
   "execution_count": null,
   "id": "54ecbccf-4218-4f76-83dc-d3ca2a0e0949",
   "metadata": {},
   "outputs": [],
   "source": []
  },
  {
   "cell_type": "markdown",
   "id": "604f0585-4033-4cfb-8f79-eddcd5fc6b34",
   "metadata": {},
   "source": [
    "#### Liveness"
   ]
  },
  {
   "cell_type": "code",
   "execution_count": 39,
   "id": "80189c28-6246-4b25-8b2f-2074e81c4e69",
   "metadata": {},
   "outputs": [
    {
     "data": {
      "image/png": "[encoded data removed]",
      "text/plain": [
       "<Figure size 432x288 with 1 Axes>"
      ]
     },
     "metadata": {
      "needs_background": "light"
     },
     "output_type": "display_data"
    }
   ],
   "source": [
    "playlist.liveness.hist();"
   ]
  },
  {
   "cell_type": "code",
   "execution_count": 40,
   "id": "be923945-3692-4f33-8a56-18603c71b2b1",
   "metadata": {},
   "outputs": [
    {
     "data": {
      "text/plain": [
       "2.1562404755479365"
      ]
     },
     "execution_count": 40,
     "metadata": {},
     "output_type": "execute_result"
    }
   ],
   "source": [
    "playlist.liveness.skew()"
   ]
  },
  {
   "cell_type": "code",
   "execution_count": 41,
   "id": "9897b6ea-2811-4999-bf7b-06081bbd2f09",
   "metadata": {},
   "outputs": [
    {
     "data": {
      "text/html": [
       "<div>\n",
       "<style scoped>\n",
       "    .dataframe tbody tr th:only-of-type {\n",
       "        vertical-align: middle;\n",
       "    }\n",
       "\n",
       "    .dataframe tbody tr th {\n",
       "        vertical-align: top;\n",
       "    }\n",
       "\n",
       "    .dataframe thead th {\n",
       "        text-align: right;\n",
       "    }\n",
       "</style>\n",
       "<table border=\"1\" class=\"dataframe\">\n",
       "  <thead>\n",
       "    <tr style=\"text-align: right;\">\n",
       "      <th></th>\n",
       "      <th>0</th>\n",
       "    </tr>\n",
       "  </thead>\n",
       "  <tbody>\n",
       "    <tr>\n",
       "      <th>0</th>\n",
       "      <td>-0.389576</td>\n",
       "    </tr>\n",
       "    <tr>\n",
       "      <th>1</th>\n",
       "      <td>0.827661</td>\n",
       "    </tr>\n",
       "    <tr>\n",
       "      <th>2</th>\n",
       "      <td>-0.189134</td>\n",
       "    </tr>\n",
       "    <tr>\n",
       "      <th>3</th>\n",
       "      <td>0.357849</td>\n",
       "    </tr>\n",
       "    <tr>\n",
       "      <th>4</th>\n",
       "      <td>-1.235416</td>\n",
       "    </tr>\n",
       "    <tr>\n",
       "      <th>...</th>\n",
       "      <td>...</td>\n",
       "    </tr>\n",
       "    <tr>\n",
       "      <th>745</th>\n",
       "      <td>-0.214012</td>\n",
       "    </tr>\n",
       "    <tr>\n",
       "      <th>746</th>\n",
       "      <td>-0.632363</td>\n",
       "    </tr>\n",
       "    <tr>\n",
       "      <th>747</th>\n",
       "      <td>1.195898</td>\n",
       "    </tr>\n",
       "    <tr>\n",
       "      <th>748</th>\n",
       "      <td>-0.252327</td>\n",
       "    </tr>\n",
       "    <tr>\n",
       "      <th>749</th>\n",
       "      <td>0.492418</td>\n",
       "    </tr>\n",
       "  </tbody>\n",
       "</table>\n",
       "<p>750 rows × 1 columns</p>\n",
       "</div>"
      ],
      "text/plain": [
       "            0\n",
       "0   -0.389576\n",
       "1    0.827661\n",
       "2   -0.189134\n",
       "3    0.357849\n",
       "4   -1.235416\n",
       "..        ...\n",
       "745 -0.214012\n",
       "746 -0.632363\n",
       "747  1.195898\n",
       "748 -0.252327\n",
       "749  0.492418\n",
       "\n",
       "[750 rows x 1 columns]"
      ]
     },
     "execution_count": 41,
     "metadata": {},
     "output_type": "execute_result"
    },
    {
     "data": {
      "image/png": "[encoded data removed]",
      "text/plain": [
       "<Figure size 432x288 with 1 Axes>"
      ]
     },
     "metadata": {
      "needs_background": "light"
     },
     "output_type": "display_data"
    }
   ],
   "source": [
    "# Transformamos la feature con Box-Cox:\n",
    "bc_transf('liveness')"
   ]
  },
  {
   "cell_type": "markdown",
   "id": "bfe8d67f-d817-4adf-bc8b-95fd99fcfccf",
   "metadata": {},
   "source": [
    "#### Loudness"
   ]
  },
  {
   "cell_type": "code",
   "execution_count": 43,
   "id": "eb69066a-0fd1-4188-b803-ca439798b5ca",
   "metadata": {},
   "outputs": [
    {
     "data": {
      "image/png": "[encoded data removed]",
      "text/plain": [
       "<Figure size 432x288 with 1 Axes>"
      ]
     },
     "metadata": {
      "needs_background": "light"
     },
     "output_type": "display_data"
    }
   ],
   "source": [
    "playlist.loudness.hist();"
   ]
  },
  {
   "cell_type": "code",
   "execution_count": 44,
   "id": "a38f14bf-2908-40f0-8ade-9afa1fd5b745",
   "metadata": {},
   "outputs": [
    {
     "data": {
      "text/plain": [
       "-1.6931146926686604"
      ]
     },
     "execution_count": 44,
     "metadata": {},
     "output_type": "execute_result"
    }
   ],
   "source": [
    "playlist.loudness.skew()"
   ]
  },
  {
   "cell_type": "code",
   "execution_count": 45,
   "id": "6a32b5b7-4092-4246-8882-820cfd99db7b",
   "metadata": {},
   "outputs": [],
   "source": [
    "# Como es negativo, vamos a crear un Yeo-Johnson transformer\n",
    "def yj_transf(feature):\n",
    "    yj = PowerTransformer(method='yeo-johnson')\n",
    "    feat_yj = yj.fit_transform(playlist[feature].values.reshape((750,1)))\n",
    "    feat_yj = pd.DataFrame(feat_yj)\n",
    "    feat_yj.hist()\n",
    "    plt.title(f\"El feature {feature} con Yeo-Johnson tiene skewness {feat_yj.skew()}\")\n",
    "    return feat_yj"
   ]
  },
  {
   "cell_type": "code",
   "execution_count": 46,
   "id": "8505e50d-af35-44b8-8cf4-cfec90a998ad",
   "metadata": {},
   "outputs": [
    {
     "data": {
      "text/html": [
       "<div>\n",
       "<style scoped>\n",
       "    .dataframe tbody tr th:only-of-type {\n",
       "        vertical-align: middle;\n",
       "    }\n",
       "\n",
       "    .dataframe tbody tr th {\n",
       "        vertical-align: top;\n",
       "    }\n",
       "\n",
       "    .dataframe thead th {\n",
       "        text-align: right;\n",
       "    }\n",
       "</style>\n",
       "<table border=\"1\" class=\"dataframe\">\n",
       "  <thead>\n",
       "    <tr style=\"text-align: right;\">\n",
       "      <th></th>\n",
       "      <th>0</th>\n",
       "    </tr>\n",
       "  </thead>\n",
       "  <tbody>\n",
       "    <tr>\n",
       "      <th>0</th>\n",
       "      <td>-1.303451</td>\n",
       "    </tr>\n",
       "    <tr>\n",
       "      <th>1</th>\n",
       "      <td>0.100206</td>\n",
       "    </tr>\n",
       "    <tr>\n",
       "      <th>2</th>\n",
       "      <td>-0.445834</td>\n",
       "    </tr>\n",
       "    <tr>\n",
       "      <th>3</th>\n",
       "      <td>-0.759268</td>\n",
       "    </tr>\n",
       "    <tr>\n",
       "      <th>4</th>\n",
       "      <td>-0.198927</td>\n",
       "    </tr>\n",
       "    <tr>\n",
       "      <th>...</th>\n",
       "      <td>...</td>\n",
       "    </tr>\n",
       "    <tr>\n",
       "      <th>745</th>\n",
       "      <td>1.078487</td>\n",
       "    </tr>\n",
       "    <tr>\n",
       "      <th>746</th>\n",
       "      <td>1.483683</td>\n",
       "    </tr>\n",
       "    <tr>\n",
       "      <th>747</th>\n",
       "      <td>-0.078905</td>\n",
       "    </tr>\n",
       "    <tr>\n",
       "      <th>748</th>\n",
       "      <td>0.111864</td>\n",
       "    </tr>\n",
       "    <tr>\n",
       "      <th>749</th>\n",
       "      <td>0.692287</td>\n",
       "    </tr>\n",
       "  </tbody>\n",
       "</table>\n",
       "<p>750 rows × 1 columns</p>\n",
       "</div>"
      ],
      "text/plain": [
       "            0\n",
       "0   -1.303451\n",
       "1    0.100206\n",
       "2   -0.445834\n",
       "3   -0.759268\n",
       "4   -0.198927\n",
       "..        ...\n",
       "745  1.078487\n",
       "746  1.483683\n",
       "747 -0.078905\n",
       "748  0.111864\n",
       "749  0.692287\n",
       "\n",
       "[750 rows x 1 columns]"
      ]
     },
     "execution_count": 46,
     "metadata": {},
     "output_type": "execute_result"
    },
    {
     "data": {
      "image/png": "[encoded data removed]",
      "text/plain": [
       "<Figure size 432x288 with 1 Axes>"
      ]
     },
     "metadata": {
      "needs_background": "light"
     },
     "output_type": "display_data"
    }
   ],
   "source": [
    "yj_transf('loudness')"
   ]
  },
  {
   "cell_type": "markdown",
   "id": "41ca023b-d8fa-4ded-99ad-a92da6b03516",
   "metadata": {},
   "source": [
    "- Mejora notablemente."
   ]
  },
  {
   "cell_type": "markdown",
   "id": "85c898a2-68b9-4645-8a90-70129026ca40",
   "metadata": {},
   "source": [
    "#### Mode"
   ]
  },
  {
   "cell_type": "code",
   "execution_count": 49,
   "id": "135ca1e5-60cd-410a-8cb7-16800c28b5a3",
   "metadata": {},
   "outputs": [
    {
     "data": {
      "image/png": "[encoded data removed]",
      "text/plain": [
       "<Figure size 432x288 with 1 Axes>"
      ]
     },
     "metadata": {
      "needs_background": "light"
     },
     "output_type": "display_data"
    }
   ],
   "source": [
    "playlist['mode'].hist();"
   ]
  },
  {
   "cell_type": "code",
   "execution_count": 50,
   "id": "3f9edfb8-c6f2-4d01-94e8-2646ae09556a",
   "metadata": {},
   "outputs": [
    {
     "data": {
      "text/plain": [
       "1    556\n",
       "0    194\n",
       "Name: mode, dtype: int64"
      ]
     },
     "execution_count": 50,
     "metadata": {},
     "output_type": "execute_result"
    }
   ],
   "source": [
    "playlist['mode'].value_counts()"
   ]
  },
  {
   "cell_type": "markdown",
   "id": "c430d1d2-bcdc-420f-868c-64f8bdce89d2",
   "metadata": {},
   "source": [
    "#### Speechiness"
   ]
  },
  {
   "cell_type": "code",
   "execution_count": 52,
   "id": "17d999a2-bfc8-4f03-a72d-22826dec184f",
   "metadata": {},
   "outputs": [
    {
     "data": {
      "image/png": "[encoded data removed]",
      "text/plain": [
       "<Figure size 432x288 with 1 Axes>"
      ]
     },
     "metadata": {
      "needs_background": "light"
     },
     "output_type": "display_data"
    }
   ],
   "source": [
    "playlist.speechiness.hist();"
   ]
  },
  {
   "cell_type": "code",
   "execution_count": 53,
   "id": "f79ced2e-730c-44ae-bcd0-b9b0d8a363b3",
   "metadata": {},
   "outputs": [
    {
     "data": {
      "text/plain": [
       "2.0403697815970148"
      ]
     },
     "execution_count": 53,
     "metadata": {},
     "output_type": "execute_result"
    }
   ],
   "source": [
    "playlist.speechiness.skew()"
   ]
  },
  {
   "cell_type": "code",
   "execution_count": 54,
   "id": "3529317d-4a86-4e6c-a7af-26e359cd79b8",
   "metadata": {},
   "outputs": [
    {
     "data": {
      "text/html": [
       "<div>\n",
       "<style scoped>\n",
       "    .dataframe tbody tr th:only-of-type {\n",
       "        vertical-align: middle;\n",
       "    }\n",
       "\n",
       "    .dataframe tbody tr th {\n",
       "        vertical-align: top;\n",
       "    }\n",
       "\n",
       "    .dataframe thead th {\n",
       "        text-align: right;\n",
       "    }\n",
       "</style>\n",
       "<table border=\"1\" class=\"dataframe\">\n",
       "  <thead>\n",
       "    <tr style=\"text-align: right;\">\n",
       "      <th></th>\n",
       "      <th>0</th>\n",
       "    </tr>\n",
       "  </thead>\n",
       "  <tbody>\n",
       "    <tr>\n",
       "      <th>0</th>\n",
       "      <td>-0.376482</td>\n",
       "    </tr>\n",
       "    <tr>\n",
       "      <th>1</th>\n",
       "      <td>-1.085454</td>\n",
       "    </tr>\n",
       "    <tr>\n",
       "      <th>2</th>\n",
       "      <td>-1.306022</td>\n",
       "    </tr>\n",
       "    <tr>\n",
       "      <th>3</th>\n",
       "      <td>-0.442445</td>\n",
       "    </tr>\n",
       "    <tr>\n",
       "      <th>4</th>\n",
       "      <td>-0.862557</td>\n",
       "    </tr>\n",
       "    <tr>\n",
       "      <th>...</th>\n",
       "      <td>...</td>\n",
       "    </tr>\n",
       "    <tr>\n",
       "      <th>745</th>\n",
       "      <td>0.016599</td>\n",
       "    </tr>\n",
       "    <tr>\n",
       "      <th>746</th>\n",
       "      <td>-0.021765</td>\n",
       "    </tr>\n",
       "    <tr>\n",
       "      <th>747</th>\n",
       "      <td>-1.026195</td>\n",
       "    </tr>\n",
       "    <tr>\n",
       "      <th>748</th>\n",
       "      <td>-0.728710</td>\n",
       "    </tr>\n",
       "    <tr>\n",
       "      <th>749</th>\n",
       "      <td>-0.875447</td>\n",
       "    </tr>\n",
       "  </tbody>\n",
       "</table>\n",
       "<p>750 rows × 1 columns</p>\n",
       "</div>"
      ],
      "text/plain": [
       "            0\n",
       "0   -0.376482\n",
       "1   -1.085454\n",
       "2   -1.306022\n",
       "3   -0.442445\n",
       "4   -0.862557\n",
       "..        ...\n",
       "745  0.016599\n",
       "746 -0.021765\n",
       "747 -1.026195\n",
       "748 -0.728710\n",
       "749 -0.875447\n",
       "\n",
       "[750 rows x 1 columns]"
      ]
     },
     "execution_count": 54,
     "metadata": {},
     "output_type": "execute_result"
    },
    {
     "data": {
      "image/png": "[encoded data removed]",
      "text/plain": [
       "<Figure size 432x288 with 1 Axes>"
      ]
     },
     "metadata": {
      "needs_background": "light"
     },
     "output_type": "display_data"
    }
   ],
   "source": [
    "bc_transf('speechiness')"
   ]
  },
  {
   "cell_type": "markdown",
   "id": "460d53c5-2d90-4b87-9d70-8b33df41a555",
   "metadata": {},
   "source": [
    "- Se ve también una mejora en la transformación."
   ]
  },
  {
   "cell_type": "markdown",
   "id": "4c779b07-8f1b-4659-9c7b-1c7f3b754e20",
   "metadata": {},
   "source": [
    "#### Tempo"
   ]
  },
  {
   "cell_type": "code",
   "execution_count": 57,
   "id": "51304648-a29e-4be5-a730-cd7421d3ed85",
   "metadata": {},
   "outputs": [
    {
     "data": {
      "image/png": "[encoded data removed]",
      "text/plain": [
       "<Figure size 432x288 with 1 Axes>"
      ]
     },
     "metadata": {
      "needs_background": "light"
     },
     "output_type": "display_data"
    }
   ],
   "source": [
    "playlist.tempo.hist();"
   ]
  },
  {
   "cell_type": "code",
   "execution_count": 58,
   "id": "490f301e-6572-4214-bd03-e64a1a3acb9d",
   "metadata": {},
   "outputs": [
    {
     "data": {
      "text/plain": [
       "0.3347625436886502"
      ]
     },
     "execution_count": 58,
     "metadata": {},
     "output_type": "execute_result"
    }
   ],
   "source": [
    "playlist.tempo.skew()"
   ]
  },
  {
   "cell_type": "code",
   "execution_count": 59,
   "id": "aef2f9b2-8f39-4830-967c-9690f35e8478",
   "metadata": {},
   "outputs": [
    {
     "data": {
      "text/html": [
       "<div>\n",
       "<style scoped>\n",
       "    .dataframe tbody tr th:only-of-type {\n",
       "        vertical-align: middle;\n",
       "    }\n",
       "\n",
       "    .dataframe tbody tr th {\n",
       "        vertical-align: top;\n",
       "    }\n",
       "\n",
       "    .dataframe thead th {\n",
       "        text-align: right;\n",
       "    }\n",
       "</style>\n",
       "<table border=\"1\" class=\"dataframe\">\n",
       "  <thead>\n",
       "    <tr style=\"text-align: right;\">\n",
       "      <th></th>\n",
       "      <th>0</th>\n",
       "    </tr>\n",
       "  </thead>\n",
       "  <tbody>\n",
       "    <tr>\n",
       "      <th>0</th>\n",
       "      <td>0.055777</td>\n",
       "    </tr>\n",
       "    <tr>\n",
       "      <th>1</th>\n",
       "      <td>0.198307</td>\n",
       "    </tr>\n",
       "    <tr>\n",
       "      <th>2</th>\n",
       "      <td>0.727922</td>\n",
       "    </tr>\n",
       "    <tr>\n",
       "      <th>3</th>\n",
       "      <td>-0.303071</td>\n",
       "    </tr>\n",
       "    <tr>\n",
       "      <th>4</th>\n",
       "      <td>-1.058360</td>\n",
       "    </tr>\n",
       "    <tr>\n",
       "      <th>...</th>\n",
       "      <td>...</td>\n",
       "    </tr>\n",
       "    <tr>\n",
       "      <th>745</th>\n",
       "      <td>-0.224569</td>\n",
       "    </tr>\n",
       "    <tr>\n",
       "      <th>746</th>\n",
       "      <td>1.343860</td>\n",
       "    </tr>\n",
       "    <tr>\n",
       "      <th>747</th>\n",
       "      <td>0.670711</td>\n",
       "    </tr>\n",
       "    <tr>\n",
       "      <th>748</th>\n",
       "      <td>0.858672</td>\n",
       "    </tr>\n",
       "    <tr>\n",
       "      <th>749</th>\n",
       "      <td>0.436710</td>\n",
       "    </tr>\n",
       "  </tbody>\n",
       "</table>\n",
       "<p>750 rows × 1 columns</p>\n",
       "</div>"
      ],
      "text/plain": [
       "            0\n",
       "0    0.055777\n",
       "1    0.198307\n",
       "2    0.727922\n",
       "3   -0.303071\n",
       "4   -1.058360\n",
       "..        ...\n",
       "745 -0.224569\n",
       "746  1.343860\n",
       "747  0.670711\n",
       "748  0.858672\n",
       "749  0.436710\n",
       "\n",
       "[750 rows x 1 columns]"
      ]
     },
     "execution_count": 59,
     "metadata": {},
     "output_type": "execute_result"
    },
    {
     "data": {
      "image/png": "[encoded data removed]",
      "text/plain": [
       "<Figure size 432x288 with 1 Axes>"
      ]
     },
     "metadata": {
      "needs_background": "light"
     },
     "output_type": "display_data"
    }
   ],
   "source": [
    "bc_transf('tempo')"
   ]
  },
  {
   "cell_type": "markdown",
   "id": "01713f36-ed4a-45c3-ac25-40df516243fe",
   "metadata": {},
   "source": [
    "#### Time Signature"
   ]
  },
  {
   "cell_type": "code",
   "execution_count": 61,
   "id": "0da11746-6421-4dd8-9020-13313f623549",
   "metadata": {},
   "outputs": [
    {
     "data": {
      "image/png": "[encoded data removed]",
      "text/plain": [
       "<Figure size 432x288 with 1 Axes>"
      ]
     },
     "metadata": {
      "needs_background": "light"
     },
     "output_type": "display_data"
    }
   ],
   "source": [
    "playlist.time_signature.hist();"
   ]
  },
  {
   "cell_type": "code",
   "execution_count": 62,
   "id": "018cccaf-d2f9-4281-898b-cca0168f7921",
   "metadata": {},
   "outputs": [
    {
     "data": {
      "text/plain": [
       "4    671\n",
       "3     64\n",
       "5      9\n",
       "1      6\n",
       "Name: time_signature, dtype: int64"
      ]
     },
     "execution_count": 62,
     "metadata": {},
     "output_type": "execute_result"
    }
   ],
   "source": [
    "playlist.time_signature.value_counts()"
   ]
  },
  {
   "cell_type": "markdown",
   "id": "7e22faf7-1782-4cd0-a382-c0c69c75d0a2",
   "metadata": {},
   "source": [
    "#### Valence"
   ]
  },
  {
   "cell_type": "code",
   "execution_count": 64,
   "id": "30c8582a-2070-4e35-809c-f51501ee6c37",
   "metadata": {},
   "outputs": [
    {
     "data": {
      "image/png": "[encoded data removed]",
      "text/plain": [
       "<Figure size 432x288 with 1 Axes>"
      ]
     },
     "metadata": {
      "needs_background": "light"
     },
     "output_type": "display_data"
    }
   ],
   "source": [
    "playlist.valence.hist();"
   ]
  },
  {
   "cell_type": "code",
   "execution_count": 65,
   "id": "3a2a364f-f0cd-42fe-80eb-51efad2d6343",
   "metadata": {},
   "outputs": [
    {
     "data": {
      "text/plain": [
       "0.10481159565511211"
      ]
     },
     "execution_count": 65,
     "metadata": {},
     "output_type": "execute_result"
    }
   ],
   "source": [
    "playlist.valence.skew()"
   ]
  },
  {
   "cell_type": "markdown",
   "id": "8c837211-84ab-4900-8df0-26dcf9821663",
   "metadata": {},
   "source": [
    "#### Label"
   ]
  },
  {
   "cell_type": "code",
   "execution_count": 67,
   "id": "effeec02-7c1e-477b-b89c-301db33095ed",
   "metadata": {},
   "outputs": [
    {
     "data": {
      "image/png": "[encoded data removed]",
      "text/plain": [
       "<Figure size 432x288 with 1 Axes>"
      ]
     },
     "metadata": {
      "needs_background": "light"
     },
     "output_type": "display_data"
    }
   ],
   "source": [
    "playlist.label.hist();"
   ]
  },
  {
   "cell_type": "code",
   "execution_count": 68,
   "id": "97c1e63a-83f6-44d3-87fe-23362fdfcc9e",
   "metadata": {},
   "outputs": [
    {
     "data": {
      "text/plain": [
       "1    452\n",
       "0    298\n",
       "Name: label, dtype: int64"
      ]
     },
     "execution_count": 68,
     "metadata": {},
     "output_type": "execute_result"
    }
   ],
   "source": [
    "playlist.label.value_counts()"
   ]
  },
  {
   "cell_type": "markdown",
   "id": "8036c47e-6e61-4079-a452-13efb16f409d",
   "metadata": {},
   "source": [
    "- Si bien existe una diferencia entre los dos labels, se puede decir que no está desbalanceado."
   ]
  },
  {
   "cell_type": "markdown",
   "id": "9a6d1a2f-f773-413c-b3f5-180150e9e869",
   "metadata": {},
   "source": [
    "## Análisis detallado"
   ]
  },
  {
   "cell_type": "code",
   "execution_count": 71,
   "id": "20632641-31a6-4d3e-bcd7-ee820abf2337",
   "metadata": {},
   "outputs": [
    {
     "data": {
      "text/html": [
       "<div>\n",
       "<style scoped>\n",
       "    .dataframe tbody tr th:only-of-type {\n",
       "        vertical-align: middle;\n",
       "    }\n",
       "\n",
       "    .dataframe tbody tr th {\n",
       "        vertical-align: top;\n",
       "    }\n",
       "\n",
       "    .dataframe thead th {\n",
       "        text-align: right;\n",
       "    }\n",
       "</style>\n",
       "<table border=\"1\" class=\"dataframe\">\n",
       "  <thead>\n",
       "    <tr style=\"text-align: right;\">\n",
       "      <th></th>\n",
       "      <th>acousticness</th>\n",
       "      <th>danceability</th>\n",
       "      <th>duration</th>\n",
       "      <th>energy</th>\n",
       "      <th>instrumentalness</th>\n",
       "      <th>key</th>\n",
       "      <th>liveness</th>\n",
       "      <th>loudness</th>\n",
       "      <th>mode</th>\n",
       "      <th>speechiness</th>\n",
       "      <th>tempo</th>\n",
       "      <th>time_signature</th>\n",
       "      <th>valence</th>\n",
       "      <th>label</th>\n",
       "    </tr>\n",
       "  </thead>\n",
       "  <tbody>\n",
       "    <tr>\n",
       "      <th>count</th>\n",
       "      <td>750.000000</td>\n",
       "      <td>750.000000</td>\n",
       "      <td>750.000000</td>\n",
       "      <td>750.000000</td>\n",
       "      <td>750.000000</td>\n",
       "      <td>750.000000</td>\n",
       "      <td>750.000000</td>\n",
       "      <td>750.000000</td>\n",
       "      <td>750.000000</td>\n",
       "      <td>750.000000</td>\n",
       "      <td>750.000000</td>\n",
       "      <td>750.000000</td>\n",
       "      <td>750.000000</td>\n",
       "      <td>750.000000</td>\n",
       "    </tr>\n",
       "    <tr>\n",
       "      <th>mean</th>\n",
       "      <td>0.357394</td>\n",
       "      <td>0.596439</td>\n",
       "      <td>220112.733333</td>\n",
       "      <td>0.594188</td>\n",
       "      <td>0.100245</td>\n",
       "      <td>4.829333</td>\n",
       "      <td>0.203376</td>\n",
       "      <td>-8.509339</td>\n",
       "      <td>0.741333</td>\n",
       "      <td>0.098966</td>\n",
       "      <td>120.405761</td>\n",
       "      <td>3.902667</td>\n",
       "      <td>0.497321</td>\n",
       "      <td>0.602667</td>\n",
       "    </tr>\n",
       "    <tr>\n",
       "      <th>std</th>\n",
       "      <td>0.338405</td>\n",
       "      <td>0.172036</td>\n",
       "      <td>65587.690483</td>\n",
       "      <td>0.253301</td>\n",
       "      <td>0.259921</td>\n",
       "      <td>3.636001</td>\n",
       "      <td>0.177609</td>\n",
       "      <td>5.039488</td>\n",
       "      <td>0.438194</td>\n",
       "      <td>0.104715</td>\n",
       "      <td>28.378116</td>\n",
       "      <td>0.400091</td>\n",
       "      <td>0.239615</td>\n",
       "      <td>0.489673</td>\n",
       "    </tr>\n",
       "    <tr>\n",
       "      <th>min</th>\n",
       "      <td>0.000001</td>\n",
       "      <td>0.107000</td>\n",
       "      <td>33840.000000</td>\n",
       "      <td>0.009250</td>\n",
       "      <td>0.000000</td>\n",
       "      <td>0.000000</td>\n",
       "      <td>0.024000</td>\n",
       "      <td>-29.601000</td>\n",
       "      <td>0.000000</td>\n",
       "      <td>0.023400</td>\n",
       "      <td>55.747000</td>\n",
       "      <td>1.000000</td>\n",
       "      <td>0.033200</td>\n",
       "      <td>0.000000</td>\n",
       "    </tr>\n",
       "    <tr>\n",
       "      <th>25%</th>\n",
       "      <td>0.037150</td>\n",
       "      <td>0.480000</td>\n",
       "      <td>185490.250000</td>\n",
       "      <td>0.423250</td>\n",
       "      <td>0.000000</td>\n",
       "      <td>1.000000</td>\n",
       "      <td>0.094550</td>\n",
       "      <td>-10.173500</td>\n",
       "      <td>0.000000</td>\n",
       "      <td>0.035900</td>\n",
       "      <td>98.998000</td>\n",
       "      <td>4.000000</td>\n",
       "      <td>0.297000</td>\n",
       "      <td>0.000000</td>\n",
       "    </tr>\n",
       "    <tr>\n",
       "      <th>50%</th>\n",
       "      <td>0.244500</td>\n",
       "      <td>0.606000</td>\n",
       "      <td>215108.500000</td>\n",
       "      <td>0.631500</td>\n",
       "      <td>0.000010</td>\n",
       "      <td>5.000000</td>\n",
       "      <td>0.129000</td>\n",
       "      <td>-7.270000</td>\n",
       "      <td>1.000000</td>\n",
       "      <td>0.048750</td>\n",
       "      <td>120.104500</td>\n",
       "      <td>4.000000</td>\n",
       "      <td>0.483000</td>\n",
       "      <td>1.000000</td>\n",
       "    </tr>\n",
       "    <tr>\n",
       "      <th>75%</th>\n",
       "      <td>0.678500</td>\n",
       "      <td>0.715750</td>\n",
       "      <td>244236.750000</td>\n",
       "      <td>0.804750</td>\n",
       "      <td>0.002245</td>\n",
       "      <td>8.000000</td>\n",
       "      <td>0.264750</td>\n",
       "      <td>-5.097750</td>\n",
       "      <td>1.000000</td>\n",
       "      <td>0.113000</td>\n",
       "      <td>138.074750</td>\n",
       "      <td>4.000000</td>\n",
       "      <td>0.684500</td>\n",
       "      <td>1.000000</td>\n",
       "    </tr>\n",
       "    <tr>\n",
       "      <th>max</th>\n",
       "      <td>0.994000</td>\n",
       "      <td>0.986000</td>\n",
       "      <td>675360.000000</td>\n",
       "      <td>0.995000</td>\n",
       "      <td>0.967000</td>\n",
       "      <td>11.000000</td>\n",
       "      <td>0.979000</td>\n",
       "      <td>-0.533000</td>\n",
       "      <td>1.000000</td>\n",
       "      <td>0.721000</td>\n",
       "      <td>204.162000</td>\n",
       "      <td>5.000000</td>\n",
       "      <td>0.975000</td>\n",
       "      <td>1.000000</td>\n",
       "    </tr>\n",
       "  </tbody>\n",
       "</table>\n",
       "</div>"
      ],
      "text/plain": [
       "       acousticness  danceability       duration      energy  \\\n",
       "count    750.000000    750.000000     750.000000  750.000000   \n",
       "mean       0.357394      0.596439  220112.733333    0.594188   \n",
       "std        0.338405      0.172036   65587.690483    0.253301   \n",
       "min        0.000001      0.107000   33840.000000    0.009250   \n",
       "25%        0.037150      0.480000  185490.250000    0.423250   \n",
       "50%        0.244500      0.606000  215108.500000    0.631500   \n",
       "75%        0.678500      0.715750  244236.750000    0.804750   \n",
       "max        0.994000      0.986000  675360.000000    0.995000   \n",
       "\n",
       "       instrumentalness         key    liveness    loudness        mode  \\\n",
       "count        750.000000  750.000000  750.000000  750.000000  750.000000   \n",
       "mean           0.100245    4.829333    0.203376   -8.509339    0.741333   \n",
       "std            0.259921    3.636001    0.177609    5.039488    0.438194   \n",
       "min            0.000000    0.000000    0.024000  -29.601000    0.000000   \n",
       "25%            0.000000    1.000000    0.094550  -10.173500    0.000000   \n",
       "50%            0.000010    5.000000    0.129000   -7.270000    1.000000   \n",
       "75%            0.002245    8.000000    0.264750   -5.097750    1.000000   \n",
       "max            0.967000   11.000000    0.979000   -0.533000    1.000000   \n",
       "\n",
       "       speechiness       tempo  time_signature     valence       label  \n",
       "count   750.000000  750.000000      750.000000  750.000000  750.000000  \n",
       "mean      0.098966  120.405761        3.902667    0.497321    0.602667  \n",
       "std       0.104715   28.378116        0.400091    0.239615    0.489673  \n",
       "min       0.023400   55.747000        1.000000    0.033200    0.000000  \n",
       "25%       0.035900   98.998000        4.000000    0.297000    0.000000  \n",
       "50%       0.048750  120.104500        4.000000    0.483000    1.000000  \n",
       "75%       0.113000  138.074750        4.000000    0.684500    1.000000  \n",
       "max       0.721000  204.162000        5.000000    0.975000    1.000000  "
      ]
     },
     "execution_count": 71,
     "metadata": {},
     "output_type": "execute_result"
    }
   ],
   "source": [
    "playlist.describe()"
   ]
  },
  {
   "cell_type": "code",
   "execution_count": 72,
   "id": "fbef37df-22c6-492c-81d3-54dc44525f82",
   "metadata": {},
   "outputs": [],
   "source": [
    "numericas = ['acousticness', 'danceability', 'duration', 'energy', 'instrumentalness','liveness', 'loudness', 'speechiness', 'tempo', 'valence']\n",
    "categoricas = ['key', 'mode', 'time_signature']"
   ]
  },
  {
   "cell_type": "code",
   "execution_count": 73,
   "id": "2015e632-ce6e-48d2-a237-200203cc09a5",
   "metadata": {},
   "outputs": [
    {
     "data": {
      "text/plain": [
       "loudness           -1.693115\n",
       "energy             -0.458765\n",
       "danceability       -0.311981\n",
       "valence             0.104812\n",
       "tempo               0.334763\n",
       "acousticness        0.534804\n",
       "duration            1.576231\n",
       "speechiness         2.040370\n",
       "liveness            2.156240\n",
       "instrumentalness    2.488166\n",
       "dtype: float64"
      ]
     },
     "execution_count": 73,
     "metadata": {},
     "output_type": "execute_result"
    }
   ],
   "source": [
    "playlist[numericas].skew().sort_values()"
   ]
  },
  {
   "cell_type": "code",
   "execution_count": 74,
   "id": "5daf25c7",
   "metadata": {},
   "outputs": [],
   "source": [
    "# Usamos una función útil para ver todas las distribuciones\n",
    "def display_dataset_distributions(dataset):\n",
    "    fig = dataset.hist(xlabelsize=12, ylabelsize=12,figsize=(22,10))\n",
    "    [x.title.set_size(14) for x in fig.ravel()]\n",
    "    plt.tight_layout()\n",
    "    plt.show()"
   ]
  },
  {
   "cell_type": "code",
   "execution_count": 75,
   "id": "32904a54",
   "metadata": {},
   "outputs": [
    {
     "data": {
      "image/png": "[encoded data removed]",
      "text/plain": [
       "<Figure size 1584x720 with 16 Axes>"
      ]
     },
     "metadata": {
      "needs_background": "light"
     },
     "output_type": "display_data"
    }
   ],
   "source": [
    "display_dataset_distributions(playlist)"
   ]
  },
  {
   "cell_type": "code",
   "execution_count": 76,
   "id": "c2d28294-2da3-467d-a8e4-3e69a96c0db2",
   "metadata": {},
   "outputs": [
    {
     "data": {
      "text/html": [
       "<div>\n",
       "<style scoped>\n",
       "    .dataframe tbody tr th:only-of-type {\n",
       "        vertical-align: middle;\n",
       "    }\n",
       "\n",
       "    .dataframe tbody tr th {\n",
       "        vertical-align: top;\n",
       "    }\n",
       "\n",
       "    .dataframe thead th {\n",
       "        text-align: right;\n",
       "    }\n",
       "</style>\n",
       "<table border=\"1\" class=\"dataframe\">\n",
       "  <thead>\n",
       "    <tr style=\"text-align: right;\">\n",
       "      <th></th>\n",
       "      <th>acousticness</th>\n",
       "      <th>danceability</th>\n",
       "      <th>duration</th>\n",
       "      <th>energy</th>\n",
       "      <th>instrumentalness</th>\n",
       "      <th>key</th>\n",
       "      <th>liveness</th>\n",
       "      <th>loudness</th>\n",
       "      <th>mode</th>\n",
       "      <th>speechiness</th>\n",
       "      <th>tempo</th>\n",
       "      <th>time_signature</th>\n",
       "      <th>valence</th>\n",
       "      <th>label</th>\n",
       "    </tr>\n",
       "  </thead>\n",
       "  <tbody>\n",
       "    <tr>\n",
       "      <th>acousticness</th>\n",
       "      <td>1.000000</td>\n",
       "      <td>-0.417974</td>\n",
       "      <td>0.054988</td>\n",
       "      <td>-0.781691</td>\n",
       "      <td>0.331659</td>\n",
       "      <td>-0.065184</td>\n",
       "      <td>-0.140326</td>\n",
       "      <td>-0.695163</td>\n",
       "      <td>0.111980</td>\n",
       "      <td>-0.215614</td>\n",
       "      <td>-0.149472</td>\n",
       "      <td>-0.205854</td>\n",
       "      <td>-0.233485</td>\n",
       "      <td>0.479307</td>\n",
       "    </tr>\n",
       "    <tr>\n",
       "      <th>danceability</th>\n",
       "      <td>-0.417974</td>\n",
       "      <td>1.000000</td>\n",
       "      <td>-0.231120</td>\n",
       "      <td>0.360971</td>\n",
       "      <td>-0.238865</td>\n",
       "      <td>0.055302</td>\n",
       "      <td>-0.115735</td>\n",
       "      <td>0.396021</td>\n",
       "      <td>-0.058461</td>\n",
       "      <td>0.272283</td>\n",
       "      <td>0.064002</td>\n",
       "      <td>0.222486</td>\n",
       "      <td>0.483361</td>\n",
       "      <td>-0.368501</td>\n",
       "    </tr>\n",
       "    <tr>\n",
       "      <th>duration</th>\n",
       "      <td>0.054988</td>\n",
       "      <td>-0.231120</td>\n",
       "      <td>1.000000</td>\n",
       "      <td>-0.093435</td>\n",
       "      <td>0.161803</td>\n",
       "      <td>-0.002089</td>\n",
       "      <td>-0.002576</td>\n",
       "      <td>-0.179952</td>\n",
       "      <td>-0.011989</td>\n",
       "      <td>-0.110645</td>\n",
       "      <td>-0.052321</td>\n",
       "      <td>-0.003030</td>\n",
       "      <td>-0.256984</td>\n",
       "      <td>0.138562</td>\n",
       "    </tr>\n",
       "    <tr>\n",
       "      <th>energy</th>\n",
       "      <td>-0.781691</td>\n",
       "      <td>0.360971</td>\n",
       "      <td>-0.093435</td>\n",
       "      <td>1.000000</td>\n",
       "      <td>-0.267846</td>\n",
       "      <td>0.066970</td>\n",
       "      <td>0.235887</td>\n",
       "      <td>0.830081</td>\n",
       "      <td>-0.102567</td>\n",
       "      <td>0.173371</td>\n",
       "      <td>0.197741</td>\n",
       "      <td>0.241667</td>\n",
       "      <td>0.364495</td>\n",
       "      <td>-0.459088</td>\n",
       "    </tr>\n",
       "    <tr>\n",
       "      <th>instrumentalness</th>\n",
       "      <td>0.331659</td>\n",
       "      <td>-0.238865</td>\n",
       "      <td>0.161803</td>\n",
       "      <td>-0.267846</td>\n",
       "      <td>1.000000</td>\n",
       "      <td>-0.020726</td>\n",
       "      <td>-0.050720</td>\n",
       "      <td>-0.429529</td>\n",
       "      <td>-0.032180</td>\n",
       "      <td>-0.145104</td>\n",
       "      <td>-0.081531</td>\n",
       "      <td>-0.024597</td>\n",
       "      <td>-0.228774</td>\n",
       "      <td>0.133523</td>\n",
       "    </tr>\n",
       "    <tr>\n",
       "      <th>key</th>\n",
       "      <td>-0.065184</td>\n",
       "      <td>0.055302</td>\n",
       "      <td>-0.002089</td>\n",
       "      <td>0.066970</td>\n",
       "      <td>-0.020726</td>\n",
       "      <td>1.000000</td>\n",
       "      <td>-0.055710</td>\n",
       "      <td>0.009126</td>\n",
       "      <td>-0.158468</td>\n",
       "      <td>0.081137</td>\n",
       "      <td>-0.084476</td>\n",
       "      <td>0.096863</td>\n",
       "      <td>0.068146</td>\n",
       "      <td>-0.075631</td>\n",
       "    </tr>\n",
       "    <tr>\n",
       "      <th>liveness</th>\n",
       "      <td>-0.140326</td>\n",
       "      <td>-0.115735</td>\n",
       "      <td>-0.002576</td>\n",
       "      <td>0.235887</td>\n",
       "      <td>-0.050720</td>\n",
       "      <td>-0.055710</td>\n",
       "      <td>1.000000</td>\n",
       "      <td>0.154176</td>\n",
       "      <td>-0.023585</td>\n",
       "      <td>0.106747</td>\n",
       "      <td>-0.008093</td>\n",
       "      <td>0.037201</td>\n",
       "      <td>0.051110</td>\n",
       "      <td>-0.108682</td>\n",
       "    </tr>\n",
       "    <tr>\n",
       "      <th>loudness</th>\n",
       "      <td>-0.695163</td>\n",
       "      <td>0.396021</td>\n",
       "      <td>-0.179952</td>\n",
       "      <td>0.830081</td>\n",
       "      <td>-0.429529</td>\n",
       "      <td>0.009126</td>\n",
       "      <td>0.154176</td>\n",
       "      <td>1.000000</td>\n",
       "      <td>-0.048111</td>\n",
       "      <td>0.188873</td>\n",
       "      <td>0.188127</td>\n",
       "      <td>0.169130</td>\n",
       "      <td>0.294852</td>\n",
       "      <td>-0.424345</td>\n",
       "    </tr>\n",
       "    <tr>\n",
       "      <th>mode</th>\n",
       "      <td>0.111980</td>\n",
       "      <td>-0.058461</td>\n",
       "      <td>-0.011989</td>\n",
       "      <td>-0.102567</td>\n",
       "      <td>-0.032180</td>\n",
       "      <td>-0.158468</td>\n",
       "      <td>-0.023585</td>\n",
       "      <td>-0.048111</td>\n",
       "      <td>1.000000</td>\n",
       "      <td>-0.118390</td>\n",
       "      <td>0.013911</td>\n",
       "      <td>-0.044799</td>\n",
       "      <td>0.051939</td>\n",
       "      <td>0.080375</td>\n",
       "    </tr>\n",
       "    <tr>\n",
       "      <th>speechiness</th>\n",
       "      <td>-0.215614</td>\n",
       "      <td>0.272283</td>\n",
       "      <td>-0.110645</td>\n",
       "      <td>0.173371</td>\n",
       "      <td>-0.145104</td>\n",
       "      <td>0.081137</td>\n",
       "      <td>0.106747</td>\n",
       "      <td>0.188873</td>\n",
       "      <td>-0.118390</td>\n",
       "      <td>1.000000</td>\n",
       "      <td>0.139993</td>\n",
       "      <td>0.088062</td>\n",
       "      <td>0.101257</td>\n",
       "      <td>-0.480931</td>\n",
       "    </tr>\n",
       "    <tr>\n",
       "      <th>tempo</th>\n",
       "      <td>-0.149472</td>\n",
       "      <td>0.064002</td>\n",
       "      <td>-0.052321</td>\n",
       "      <td>0.197741</td>\n",
       "      <td>-0.081531</td>\n",
       "      <td>-0.084476</td>\n",
       "      <td>-0.008093</td>\n",
       "      <td>0.188127</td>\n",
       "      <td>0.013911</td>\n",
       "      <td>0.139993</td>\n",
       "      <td>1.000000</td>\n",
       "      <td>0.027999</td>\n",
       "      <td>0.076123</td>\n",
       "      <td>-0.071652</td>\n",
       "    </tr>\n",
       "    <tr>\n",
       "      <th>time_signature</th>\n",
       "      <td>-0.205854</td>\n",
       "      <td>0.222486</td>\n",
       "      <td>-0.003030</td>\n",
       "      <td>0.241667</td>\n",
       "      <td>-0.024597</td>\n",
       "      <td>0.096863</td>\n",
       "      <td>0.037201</td>\n",
       "      <td>0.169130</td>\n",
       "      <td>-0.044799</td>\n",
       "      <td>0.088062</td>\n",
       "      <td>0.027999</td>\n",
       "      <td>1.000000</td>\n",
       "      <td>0.143921</td>\n",
       "      <td>-0.149962</td>\n",
       "    </tr>\n",
       "    <tr>\n",
       "      <th>valence</th>\n",
       "      <td>-0.233485</td>\n",
       "      <td>0.483361</td>\n",
       "      <td>-0.256984</td>\n",
       "      <td>0.364495</td>\n",
       "      <td>-0.228774</td>\n",
       "      <td>0.068146</td>\n",
       "      <td>0.051110</td>\n",
       "      <td>0.294852</td>\n",
       "      <td>0.051939</td>\n",
       "      <td>0.101257</td>\n",
       "      <td>0.076123</td>\n",
       "      <td>0.143921</td>\n",
       "      <td>1.000000</td>\n",
       "      <td>-0.178546</td>\n",
       "    </tr>\n",
       "    <tr>\n",
       "      <th>label</th>\n",
       "      <td>0.479307</td>\n",
       "      <td>-0.368501</td>\n",
       "      <td>0.138562</td>\n",
       "      <td>-0.459088</td>\n",
       "      <td>0.133523</td>\n",
       "      <td>-0.075631</td>\n",
       "      <td>-0.108682</td>\n",
       "      <td>-0.424345</td>\n",
       "      <td>0.080375</td>\n",
       "      <td>-0.480931</td>\n",
       "      <td>-0.071652</td>\n",
       "      <td>-0.149962</td>\n",
       "      <td>-0.178546</td>\n",
       "      <td>1.000000</td>\n",
       "    </tr>\n",
       "  </tbody>\n",
       "</table>\n",
       "</div>"
      ],
      "text/plain": [
       "                  acousticness  danceability  duration    energy  \\\n",
       "acousticness          1.000000     -0.417974  0.054988 -0.781691   \n",
       "danceability         -0.417974      1.000000 -0.231120  0.360971   \n",
       "duration              0.054988     -0.231120  1.000000 -0.093435   \n",
       "energy               -0.781691      0.360971 -0.093435  1.000000   \n",
       "instrumentalness      0.331659     -0.238865  0.161803 -0.267846   \n",
       "key                  -0.065184      0.055302 -0.002089  0.066970   \n",
       "liveness             -0.140326     -0.115735 -0.002576  0.235887   \n",
       "loudness             -0.695163      0.396021 -0.179952  0.830081   \n",
       "mode                  0.111980     -0.058461 -0.011989 -0.102567   \n",
       "speechiness          -0.215614      0.272283 -0.110645  0.173371   \n",
       "tempo                -0.149472      0.064002 -0.052321  0.197741   \n",
       "time_signature       -0.205854      0.222486 -0.003030  0.241667   \n",
       "valence              -0.233485      0.483361 -0.256984  0.364495   \n",
       "label                 0.479307     -0.368501  0.138562 -0.459088   \n",
       "\n",
       "                  instrumentalness       key  liveness  loudness      mode  \\\n",
       "acousticness              0.331659 -0.065184 -0.140326 -0.695163  0.111980   \n",
       "danceability             -0.238865  0.055302 -0.115735  0.396021 -0.058461   \n",
       "duration                  0.161803 -0.002089 -0.002576 -0.179952 -0.011989   \n",
       "energy                   -0.267846  0.066970  0.235887  0.830081 -0.102567   \n",
       "instrumentalness          1.000000 -0.020726 -0.050720 -0.429529 -0.032180   \n",
       "key                      -0.020726  1.000000 -0.055710  0.009126 -0.158468   \n",
       "liveness                 -0.050720 -0.055710  1.000000  0.154176 -0.023585   \n",
       "loudness                 -0.429529  0.009126  0.154176  1.000000 -0.048111   \n",
       "mode                     -0.032180 -0.158468 -0.023585 -0.048111  1.000000   \n",
       "speechiness              -0.145104  0.081137  0.106747  0.188873 -0.118390   \n",
       "tempo                    -0.081531 -0.084476 -0.008093  0.188127  0.013911   \n",
       "time_signature           -0.024597  0.096863  0.037201  0.169130 -0.044799   \n",
       "valence                  -0.228774  0.068146  0.051110  0.294852  0.051939   \n",
       "label                     0.133523 -0.075631 -0.108682 -0.424345  0.080375   \n",
       "\n",
       "                  speechiness     tempo  time_signature   valence     label  \n",
       "acousticness        -0.215614 -0.149472       -0.205854 -0.233485  0.479307  \n",
       "danceability         0.272283  0.064002        0.222486  0.483361 -0.368501  \n",
       "duration            -0.110645 -0.052321       -0.003030 -0.256984  0.138562  \n",
       "energy               0.173371  0.197741        0.241667  0.364495 -0.459088  \n",
       "instrumentalness    -0.145104 -0.081531       -0.024597 -0.228774  0.133523  \n",
       "key                  0.081137 -0.084476        0.096863  0.068146 -0.075631  \n",
       "liveness             0.106747 -0.008093        0.037201  0.051110 -0.108682  \n",
       "loudness             0.188873  0.188127        0.169130  0.294852 -0.424345  \n",
       "mode                -0.118390  0.013911       -0.044799  0.051939  0.080375  \n",
       "speechiness          1.000000  0.139993        0.088062  0.101257 -0.480931  \n",
       "tempo                0.139993  1.000000        0.027999  0.076123 -0.071652  \n",
       "time_signature       0.088062  0.027999        1.000000  0.143921 -0.149962  \n",
       "valence              0.101257  0.076123        0.143921  1.000000 -0.178546  \n",
       "label               -0.480931 -0.071652       -0.149962 -0.178546  1.000000  "
      ]
     },
     "execution_count": 76,
     "metadata": {},
     "output_type": "execute_result"
    }
   ],
   "source": [
    "# Vemos como está la correlación de las variables\n",
    "playlist.corr()"
   ]
  },
  {
   "cell_type": "code",
   "execution_count": 77,
   "id": "2f1a30ad-6ae0-4916-9bd2-a874a29ab76f",
   "metadata": {},
   "outputs": [
    {
     "data": {
      "image/png": "[encoded data removed]",
      "text/plain": [
       "<Figure size 1440x576 with 2 Axes>"
      ]
     },
     "metadata": {
      "needs_background": "light"
     },
     "output_type": "display_data"
    }
   ],
   "source": [
    "# Matriz de correlación, redondeo a 2 decimales\n",
    "correlation_matrix = playlist.corr().round(2)\n",
    "fig,axes = plt.subplots(1,1,figsize=(20,8))\n",
    "sns.heatmap(data=correlation_matrix, annot=True,ax=axes, cmap='crest');"
   ]
  },
  {
   "cell_type": "markdown",
   "id": "66b58759-12b5-4399-9142-60a7f050e551",
   "metadata": {},
   "source": [
    "- Podemos decir que con un valor de correlación arriba del 75%, esos dos features tienen cierta correlación.\n",
    "- Podemos tomar `acousticness` con `energy` y `loudness` con `energy`."
   ]
  },
  {
   "cell_type": "code",
   "execution_count": 79,
   "id": "42a7a0e8-a6d9-42de-953c-756d50ae0f15",
   "metadata": {},
   "outputs": [
    {
     "data": {
      "image/png": "[encoded data removed]",
      "text/plain": [
       "<Figure size 1440x288 with 2 Axes>"
      ]
     },
     "metadata": {
      "needs_background": "light"
     },
     "output_type": "display_data"
    }
   ],
   "source": [
    "fig,axes = plt.subplots(1,2,figsize=(20,4))\n",
    "sns.regplot(x=\"acousticness\", y=\"energy\", data=playlist, order=1,ax=axes[0])\n",
    "sns.regplot(x=\"loudness\", y=\"energy\", data=playlist, order=1,ax=axes[1]);"
   ]
  },
  {
   "cell_type": "code",
   "execution_count": 80,
   "id": "a0cf5def-950e-4657-8581-31a88365048c",
   "metadata": {},
   "outputs": [
    {
     "data": {
      "image/png": "[encoded data removed]",
      "text/plain": [
       "<Figure size 432x288 with 1 Axes>"
      ]
     },
     "metadata": {
      "needs_background": "light"
     },
     "output_type": "display_data"
    }
   ],
   "source": [
    "# Vemos si energy y loudness tienen una relación de orden mayor\n",
    "sns.regplot(x=\"loudness\", y=\"energy\", data=playlist, order=2);"
   ]
  },
  {
   "cell_type": "markdown",
   "id": "316e97fa-c4b7-4de6-8e32-ed5ba2540538",
   "metadata": {},
   "source": [
    "- Se adapta mejor a este modelo de orden 2."
   ]
  },
  {
   "cell_type": "markdown",
   "id": "a13e54f2-f68a-44de-b3f9-88677a53e9b5",
   "metadata": {},
   "source": [
    "- Ya en un grado menor, con la correlación en 70% podemos tomar las variables `loudness` y `acousticness`. Aunque el resultado no se ve prometedor."
   ]
  },
  {
   "cell_type": "code",
   "execution_count": 83,
   "id": "1c482beb-36fd-45a7-855d-b9b5e399d057",
   "metadata": {},
   "outputs": [
    {
     "data": {
      "image/png": "[encoded data removed]",
      "text/plain": [
       "<Figure size 432x288 with 1 Axes>"
      ]
     },
     "metadata": {
      "needs_background": "light"
     },
     "output_type": "display_data"
    }
   ],
   "source": [
    "sns.regplot(x=\"loudness\", y=\"acousticness\", data=playlist, order=1);"
   ]
  },
  {
   "cell_type": "code",
   "execution_count": null,
   "id": "ee3a4bb4-ee11-41cb-a5ed-80bffd6055cb",
   "metadata": {},
   "outputs": [],
   "source": []
  },
  {
   "cell_type": "code",
   "execution_count": null,
   "id": "f51d8e89-a69c-4e81-af05-468dd8057cde",
   "metadata": {},
   "outputs": [],
   "source": []
  },
  {
   "cell_type": "code",
   "execution_count": null,
   "id": "25cb63cf-5401-4c42-860a-f0a3ebae21c5",
   "metadata": {},
   "outputs": [],
   "source": []
  },
  {
   "cell_type": "markdown",
   "id": "1800701d-dc57-4b44-945a-12185b66171d",
   "metadata": {},
   "source": [
    "### Identificación de variables"
   ]
  },
  {
   "cell_type": "code",
   "execution_count": null,
   "id": "68ff271b-d8da-4383-a080-ab73eadcbe42",
   "metadata": {},
   "outputs": [],
   "source": []
  },
  {
   "cell_type": "code",
   "execution_count": 85,
   "id": "c8238f52-cc08-40ca-8791-9ec0c1ebdba6",
   "metadata": {},
   "outputs": [],
   "source": [
    "# Variables de entrada\n",
    "entrada = playlist.drop('label', axis=1)\n",
    "salida = playlist.label"
   ]
  },
  {
   "cell_type": "markdown",
   "id": "6ceefb7d-557d-4321-94a0-91a47b1a3212",
   "metadata": {},
   "source": [
    "#### Boxplot"
   ]
  },
  {
   "cell_type": "code",
   "execution_count": 87,
   "id": "9826b5ec-a2c4-4c9a-8480-0f428143a2e9",
   "metadata": {},
   "outputs": [
    {
     "data": {
      "text/plain": [
       "<Figure size 1440x576 with 0 Axes>"
      ]
     },
     "execution_count": 87,
     "metadata": {},
     "output_type": "execute_result"
    },
    {
     "data": {
      "text/plain": [
       "<Figure size 1440x576 with 0 Axes>"
      ]
     },
     "metadata": {},
     "output_type": "display_data"
    }
   ],
   "source": [
    "entre_0y1 = playlist[numericas].drop(['duration','loudness', 'tempo'], axis=1)\n",
    "plt.figure(figsize=(20,8))\n",
    "#sns.boxplot(entre_0y1);"
   ]
  },
  {
   "cell_type": "code",
   "execution_count": 88,
   "id": "74f3f742-0e3c-4493-9499-449480336b93",
   "metadata": {},
   "outputs": [
    {
     "data": {
      "image/png": "[encoded data removed]",
      "text/plain": [
       "<Figure size 432x288 with 1 Axes>"
      ]
     },
     "metadata": {
      "needs_background": "light"
     },
     "output_type": "display_data"
    }
   ],
   "source": [
    "sns.boxplot(data=playlist['duration']);"
   ]
  },
  {
   "cell_type": "code",
   "execution_count": 89,
   "id": "43070eca-36e8-41ac-a20d-0cca2bd348c5",
   "metadata": {},
   "outputs": [
    {
     "data": {
      "image/png": "[encoded data removed]",
      "text/plain": [
       "<Figure size 432x288 with 1 Axes>"
      ]
     },
     "metadata": {
      "needs_background": "light"
     },
     "output_type": "display_data"
    }
   ],
   "source": [
    "sns.boxplot(data=playlist['tempo']);"
   ]
  },
  {
   "cell_type": "code",
   "execution_count": 90,
   "id": "5a22679e-5662-49e7-86fd-6c5fcd0738f9",
   "metadata": {},
   "outputs": [
    {
     "data": {
      "image/png": "[encoded data removed]",
      "text/plain": [
       "<Figure size 432x288 with 1 Axes>"
      ]
     },
     "metadata": {
      "needs_background": "light"
     },
     "output_type": "display_data"
    }
   ],
   "source": [
    "sns.boxplot(data=playlist['loudness']);"
   ]
  },
  {
   "cell_type": "markdown",
   "id": "8710887a-78b5-49f1-b9b6-16082df8d26e",
   "metadata": {},
   "source": [
    "## Pruebas de modelos"
   ]
  },
  {
   "cell_type": "code",
   "execution_count": 266,
   "id": "0c2bcb35-5b82-4c55-bc87-a8e04e6dc8b9",
   "metadata": {},
   "outputs": [],
   "source": [
    "# Entrenamiento de modelos de prueba\n",
    "from sklearn.linear_model import LinearRegression\n",
    "from sklearn.linear_model import LogisticRegression\n",
    "from sklearn.ensemble import AdaBoostClassifier\n",
    "from sklearn.ensemble import RandomForestClassifier\n",
    "from sklearn.ensemble import GradientBoostingClassifier\n",
    "from sklearn.neighbors import KNeighborsClassifier\n",
    "from sklearn.svm import SVC\n",
    "\n",
    "# Evaluación de modelos de prueba\n",
    "from sklearn.metrics import roc_auc_score, auc, roc_curve\n",
    "from sklearn.metrics import mean_squared_error\n",
    "from sklearn.metrics import confusion_matrix, classification_report\n",
    "\n",
    "# Partición de train-test set\n",
    "from sklearn.model_selection import train_test_split\n",
    "\n",
    "# Escalado de features\n",
    "from sklearn.preprocessing import MinMaxScaler, StandardScaler\n",
    "\n",
    "# Pipelines\n",
    "from sklearn.pipeline import Pipeline\n",
    "\n",
    "# Crear datasets\n",
    "from sklearn.datasets import make_regression\n",
    "\n",
    "# Esquemas de entrenamiento\n",
    "from sklearn.model_selection import RepeatedStratifiedKFold, RepeatedKFold\n",
    "from sklearn.model_selection import cross_val_score"
   ]
  },
  {
   "cell_type": "code",
   "execution_count": 93,
   "id": "b07cc0b8-d35d-497a-afb4-9b9f16080df5",
   "metadata": {},
   "outputs": [
    {
     "data": {
      "text/plain": [
       "Index(['acousticness', 'danceability', 'duration', 'energy',\n",
       "       'instrumentalness', 'key', 'liveness', 'loudness', 'mode',\n",
       "       'speechiness', 'tempo', 'time_signature', 'valence', 'label'],\n",
       "      dtype='object')"
      ]
     },
     "execution_count": 93,
     "metadata": {},
     "output_type": "execute_result"
    }
   ],
   "source": [
    "playlist.columns"
   ]
  },
  {
   "cell_type": "code",
   "execution_count": 94,
   "id": "33e907df-6c93-4c8b-98bb-302277553c97",
   "metadata": {},
   "outputs": [],
   "source": [
    "# Diferenciamos en X y en y las variables\n",
    "X = playlist.drop(columns='label')\n",
    "y = playlist.label"
   ]
  },
  {
   "cell_type": "code",
   "execution_count": 95,
   "id": "967cc34e-0397-4717-961a-9cb5dcbefa1a",
   "metadata": {},
   "outputs": [
    {
     "name": "stdout",
     "output_type": "stream",
     "text": [
      "Train shape:  (600, 13) (600,)\n",
      "Test shape: (150, 13) (150,)\n"
     ]
    }
   ],
   "source": [
    "# Primero realizamos el split\n",
    "# Particionamos en train y test porque tenemos pocos datos\n",
    "train_ratio = 0.80\n",
    "# validation_ratio = 0.20\n",
    "test_ratio = 1 - train_ratio\n",
    "\n",
    "# En SKLearn no hay una función para hacer todo en un paso así que lo hacemos en 2.\n",
    "X_train, X_test, y_train, y_test = train_test_split(X, y, test_size=test_ratio, random_state=42)\n",
    "# X_val, X_test, y_val, y_test = train_test_split(X_test, y_test, train_size=(validation_ratio/(validation_ratio+test_ratio))) \n",
    "\n",
    "print(\"Train shape: \", X_train.shape,y_train.shape)\n",
    "# print(\"Val: \",X_val.shape,y_val.shape)\n",
    "print(\"Test shape:\", X_test.shape,y_test.shape)"
   ]
  },
  {
   "cell_type": "code",
   "execution_count": 96,
   "id": "c09ce2ef-82b4-496c-8568-0a4a12e34525",
   "metadata": {},
   "outputs": [
    {
     "name": "stdout",
     "output_type": "stream",
     "text": [
      "Contamos los labels de train:\n",
      "1    0.593333\n",
      "0    0.406667\n",
      "Name: label, dtype: float64\n",
      "Contamos los labels de test: \n",
      "1    0.64\n",
      "0    0.36\n",
      "Name: label, dtype: float64\n"
     ]
    }
   ],
   "source": [
    "# Vamos a revisar qué tiene cada split\n",
    "print(f\"Contamos los labels de train:\\n{y_train.value_counts()/len(y_train)}\")\n",
    "print(f\"Contamos los labels de test: \\n{y_test.value_counts()/len(y_test)}\")"
   ]
  },
  {
   "cell_type": "markdown",
   "id": "0b235ba6-abfe-4739-8415-c5b596ddf7e3",
   "metadata": {},
   "source": [
    "### Regresión Logística"
   ]
  },
  {
   "cell_type": "code",
   "execution_count": 98,
   "id": "e437122b-826b-441d-ab09-3345f98dc64c",
   "metadata": {},
   "outputs": [],
   "source": [
    "# Vamos a usar regresión logística porque se quiere predecir si es una clase 0 o 1\n",
    "log_reg = LogisticRegression() # usamos un modelo por default"
   ]
  },
  {
   "cell_type": "code",
   "execution_count": 99,
   "id": "0b87be64-d82d-4c48-afa6-79acf4cafaa6",
   "metadata": {},
   "outputs": [],
   "source": [
    "# Vamos a usar todos los features numéricos para entrenar\n",
    "X_train_num = X_train[numericas]\n",
    "X_test_num = X_test[numericas]"
   ]
  },
  {
   "cell_type": "code",
   "execution_count": 100,
   "id": "6a258103-f5f8-4ea5-a36d-bc213d0f201d",
   "metadata": {},
   "outputs": [
    {
     "data": {
      "image/png": "[encoded data removed]",
      "text/plain": [
       "<Figure size 432x288 with 1 Axes>"
      ]
     },
     "metadata": {
      "needs_background": "light"
     },
     "output_type": "display_data"
    }
   ],
   "source": [
    "to_plot = X_train_num.describe().T / X_test_num.describe().T\n",
    "sns.boxplot(data=to_plot)\n",
    "plt.title(\"Distribución de estadísticos entre X_train_num/X_test_num\")\n",
    "plt.show()"
   ]
  },
  {
   "cell_type": "code",
   "execution_count": 101,
   "id": "241c18ce-bd42-458c-9c25-ea1e71085afe",
   "metadata": {},
   "outputs": [
    {
     "data": {
      "text/plain": [
       "LogisticRegression()"
      ]
     },
     "execution_count": 101,
     "metadata": {},
     "output_type": "execute_result"
    }
   ],
   "source": [
    "# Entrenamos el modelo con este dataset\n",
    "log_reg.fit(X_train_num, y_train)"
   ]
  },
  {
   "cell_type": "code",
   "execution_count": 102,
   "id": "465a809a-884a-4025-a442-abc39f46f8a4",
   "metadata": {},
   "outputs": [],
   "source": [
    "# Predecimos los valores\n",
    "y_hat = log_reg.predict(X_test_num)"
   ]
  },
  {
   "cell_type": "code",
   "execution_count": 103,
   "id": "13d0c5a6-9953-4ebe-ba5b-61d23033d619",
   "metadata": {},
   "outputs": [
    {
     "name": "stdout",
     "output_type": "stream",
     "text": [
      "[[28 26]\n",
      " [17 79]]\n"
     ]
    }
   ],
   "source": [
    "# Vamos a ver cómo salió la clasificación\n",
    "cm = confusion_matrix(y_test, y_hat)\n",
    "print(cm)"
   ]
  },
  {
   "cell_type": "code",
   "execution_count": 104,
   "id": "3c4e4fb0-bd33-486d-acff-3759a2f885ff",
   "metadata": {},
   "outputs": [
    {
     "name": "stdout",
     "output_type": "stream",
     "text": [
      "              precision    recall  f1-score   support\n",
      "\n",
      "           0       0.62      0.52      0.57        54\n",
      "           1       0.75      0.82      0.79        96\n",
      "\n",
      "    accuracy                           0.71       150\n",
      "   macro avg       0.69      0.67      0.68       150\n",
      "weighted avg       0.71      0.71      0.71       150\n",
      "\n"
     ]
    }
   ],
   "source": [
    "cr = classification_report(y_test, y_hat)\n",
    "print(cr)"
   ]
  },
  {
   "cell_type": "code",
   "execution_count": 105,
   "id": "a616662b-56c2-4d0c-914f-4536a30a7172",
   "metadata": {},
   "outputs": [],
   "source": [
    "# Realizamos un scalado de los datos para mejorar las distribuciones numéricas\n",
    "scaler = StandardScaler()\n",
    "X_train_num_scaled = scaler.fit_transform(X_train_num)\n",
    "X_test_num_scaled = scaler.fit(X_test_num)"
   ]
  },
  {
   "cell_type": "code",
   "execution_count": 106,
   "id": "0b2b46d4-2f12-46a3-b05e-7394be9ec678",
   "metadata": {},
   "outputs": [
    {
     "data": {
      "text/plain": [
       "LogisticRegression()"
      ]
     },
     "execution_count": 106,
     "metadata": {},
     "output_type": "execute_result"
    }
   ],
   "source": [
    "# Realizamos la misma regresión logística pero con los datos escalados\n",
    "log_reg_scaled = LogisticRegression()\n",
    "log_reg_scaled.fit(X_train_num_scaled, y_train)"
   ]
  },
  {
   "cell_type": "code",
   "execution_count": 107,
   "id": "d176d669-36e3-476a-949e-9e48b92f187f",
   "metadata": {},
   "outputs": [],
   "source": [
    "X_test_num_scaled = scaler.transform(X_test_num)"
   ]
  },
  {
   "cell_type": "code",
   "execution_count": 108,
   "id": "88163bfd-ebf8-4062-88ed-97000b05800f",
   "metadata": {},
   "outputs": [
    {
     "name": "stdout",
     "output_type": "stream",
     "text": [
      "La matriz de confusión: \n",
      " [[43 11]\n",
      " [18 78]]\n"
     ]
    }
   ],
   "source": [
    "# Predecimos los valores\n",
    "y_hat_scaled = log_reg_scaled.predict(X_test_num_scaled)\n",
    "\n",
    "cm = confusion_matrix(y_test, y_hat_scaled)\n",
    "print(\"La matriz de confusión: \\n\", cm)"
   ]
  },
  {
   "cell_type": "code",
   "execution_count": 109,
   "id": "3ca103fb-b259-4698-a143-35de68b92c93",
   "metadata": {},
   "outputs": [
    {
     "name": "stdout",
     "output_type": "stream",
     "text": [
      "Reporte de clasificación: \n",
      "               precision    recall  f1-score   support\n",
      "\n",
      "           0       0.70      0.80      0.75        54\n",
      "           1       0.88      0.81      0.84        96\n",
      "\n",
      "    accuracy                           0.81       150\n",
      "   macro avg       0.79      0.80      0.80       150\n",
      "weighted avg       0.81      0.81      0.81       150\n",
      "\n"
     ]
    }
   ],
   "source": [
    "cr = classification_report(y_test, y_hat_scaled)\n",
    "print(\"Reporte de clasificación: \\n\", cr)"
   ]
  },
  {
   "cell_type": "markdown",
   "id": "38a4accf-7bec-4d06-bd5d-a698175ccb6e",
   "metadata": {},
   "source": [
    "- Predice mejor los labels escalando los datos"
   ]
  },
  {
   "cell_type": "code",
   "execution_count": 111,
   "id": "8bdfe97b-8543-40d2-ab83-f1c5a89c993d",
   "metadata": {},
   "outputs": [
    {
     "data": {
      "text/html": [
       "<div>\n",
       "<style scoped>\n",
       "    .dataframe tbody tr th:only-of-type {\n",
       "        vertical-align: middle;\n",
       "    }\n",
       "\n",
       "    .dataframe tbody tr th {\n",
       "        vertical-align: top;\n",
       "    }\n",
       "\n",
       "    .dataframe thead th {\n",
       "        text-align: right;\n",
       "    }\n",
       "</style>\n",
       "<table border=\"1\" class=\"dataframe\">\n",
       "  <thead>\n",
       "    <tr style=\"text-align: right;\">\n",
       "      <th></th>\n",
       "      <th>key</th>\n",
       "      <th>mode</th>\n",
       "      <th>time_signature</th>\n",
       "    </tr>\n",
       "  </thead>\n",
       "  <tbody>\n",
       "    <tr>\n",
       "      <th>595</th>\n",
       "      <td>8</td>\n",
       "      <td>1</td>\n",
       "      <td>4</td>\n",
       "    </tr>\n",
       "    <tr>\n",
       "      <th>131</th>\n",
       "      <td>6</td>\n",
       "      <td>1</td>\n",
       "      <td>4</td>\n",
       "    </tr>\n",
       "    <tr>\n",
       "      <th>44</th>\n",
       "      <td>10</td>\n",
       "      <td>1</td>\n",
       "      <td>4</td>\n",
       "    </tr>\n",
       "    <tr>\n",
       "      <th>70</th>\n",
       "      <td>1</td>\n",
       "      <td>1</td>\n",
       "      <td>4</td>\n",
       "    </tr>\n",
       "    <tr>\n",
       "      <th>672</th>\n",
       "      <td>2</td>\n",
       "      <td>1</td>\n",
       "      <td>4</td>\n",
       "    </tr>\n",
       "  </tbody>\n",
       "</table>\n",
       "</div>"
      ],
      "text/plain": [
       "     key  mode  time_signature\n",
       "595    8     1               4\n",
       "131    6     1               4\n",
       "44    10     1               4\n",
       "70     1     1               4\n",
       "672    2     1               4"
      ]
     },
     "execution_count": 111,
     "metadata": {},
     "output_type": "execute_result"
    }
   ],
   "source": [
    "# Vamos a analizar usando también los features categóricos\n",
    "X_train[categoricas].head()"
   ]
  },
  {
   "cell_type": "code",
   "execution_count": 112,
   "id": "fcd9b302-fb74-407c-b75d-770859d83c01",
   "metadata": {},
   "outputs": [
    {
     "data": {
      "text/plain": [
       "Index(['acousticness', 'danceability', 'duration', 'energy',\n",
       "       'instrumentalness', 'key', 'liveness', 'loudness', 'mode',\n",
       "       'speechiness', 'tempo', 'time_signature', 'valence'],\n",
       "      dtype='object')"
      ]
     },
     "execution_count": 112,
     "metadata": {},
     "output_type": "execute_result"
    }
   ],
   "source": [
    "X_train.columns"
   ]
  },
  {
   "cell_type": "code",
   "execution_count": 113,
   "id": "a9de8328-057e-4dfd-99bf-6c1b7d724f49",
   "metadata": {},
   "outputs": [
    {
     "data": {
      "text/plain": [
       "LogisticRegression()"
      ]
     },
     "execution_count": 113,
     "metadata": {},
     "output_type": "execute_result"
    }
   ],
   "source": [
    "# Si pasamos todos los features sin escalar los numéricos al modelo de regresión logística\n",
    "log_reg_raw = LogisticRegression()\n",
    "log_reg_raw.fit(X_train, y_train)"
   ]
  },
  {
   "cell_type": "code",
   "execution_count": 114,
   "id": "7e50c1b4-83d7-44b1-bbe4-a2ec6454bb1b",
   "metadata": {},
   "outputs": [
    {
     "name": "stdout",
     "output_type": "stream",
     "text": [
      "La matriz de confusión: \n",
      " [[ 8 46]\n",
      " [16 80]]\n",
      "\n",
      "\n",
      "Reporte de clasificación: \n",
      "               precision    recall  f1-score   support\n",
      "\n",
      "           0       0.33      0.15      0.21        54\n",
      "           1       0.63      0.83      0.72        96\n",
      "\n",
      "    accuracy                           0.59       150\n",
      "   macro avg       0.48      0.49      0.46       150\n",
      "weighted avg       0.53      0.59      0.54       150\n",
      "\n"
     ]
    }
   ],
   "source": [
    "# Predecimos los valores\n",
    "y_hat_raw = log_reg_raw.predict(X_test)\n",
    "\n",
    "# Calculamos la matriz de confusión\n",
    "cm = confusion_matrix(y_test, y_hat_raw)\n",
    "print(\"La matriz de confusión: \\n\", cm)\n",
    "print(\"\\n\")\n",
    "\n",
    "# Calculamos el reporte de clasificación\n",
    "cr = classification_report(y_test, y_hat_raw)\n",
    "print(\"Reporte de clasificación: \\n\", cr)"
   ]
  },
  {
   "cell_type": "code",
   "execution_count": 115,
   "id": "cc419376-ca2b-4097-8209-297ea90e284d",
   "metadata": {},
   "outputs": [],
   "source": [
    "# Vamos a usar los datos numéricos escalados y adjuntamos los features categóricos\n",
    "X_train_num_scaled = pd.DataFrame(X_train_num_scaled, columns=numericas)\n",
    "X_test_num_scaled = pd.DataFrame(X_test_num_scaled, columns=numericas)"
   ]
  },
  {
   "cell_type": "code",
   "execution_count": 116,
   "id": "83655da4-f145-432e-947f-f81cb7daf942",
   "metadata": {},
   "outputs": [],
   "source": [
    "# X_train_raw_scaled = X_train_num_scaled.join(X_train[categoricas], how='right') --> no funciona con este join ya que se generan NaN"
   ]
  },
  {
   "cell_type": "code",
   "execution_count": 117,
   "id": "d5898acb-e890-405c-9294-078a3d04c656",
   "metadata": {},
   "outputs": [],
   "source": [
    "# Adjuntamos ambos datos; la mejor forma fue ir a numpy y luego concatenar ahi\n",
    "columnas = numericas+categoricas\n",
    "X_train_raw_scaled = pd.DataFrame(np.concatenate((X_train_num_scaled.values, X_train[categoricas].values), axis=1), columns=columnas)"
   ]
  },
  {
   "cell_type": "code",
   "execution_count": 118,
   "id": "fe1e0198-5cef-427d-ab32-cc24231dc42c",
   "metadata": {},
   "outputs": [],
   "source": [
    "# Hacemos lo mismo con el dataset de test\n",
    "X_test_raw_scaled = pd.DataFrame(np.concatenate((X_test_num_scaled.values, X_test[categoricas].values), axis=1), columns=columnas)"
   ]
  },
  {
   "cell_type": "code",
   "execution_count": 119,
   "id": "80ba5b90-5cf4-4a20-89e7-3709bd32c606",
   "metadata": {},
   "outputs": [
    {
     "name": "stdout",
     "output_type": "stream",
     "text": [
      "La matriz de confusión: \n",
      " [[41 13]\n",
      " [19 77]]\n",
      "\n",
      "\n",
      "Reporte de clasificación: \n",
      "               precision    recall  f1-score   support\n",
      "\n",
      "           0       0.68      0.76      0.72        54\n",
      "           1       0.86      0.80      0.83        96\n",
      "\n",
      "    accuracy                           0.79       150\n",
      "   macro avg       0.77      0.78      0.77       150\n",
      "weighted avg       0.79      0.79      0.79       150\n",
      "\n"
     ]
    }
   ],
   "source": [
    "# Si pasamos este dataframe al modelo de regresión logística\n",
    "log_reg_raw_scaled = LogisticRegression()\n",
    "log_reg_raw_scaled.fit(X_train_raw_scaled, y_train)\n",
    "\n",
    "# Predecimos los valores\n",
    "y_hat_raw_scaled = log_reg_raw_scaled.predict(X_test_raw_scaled)\n",
    "\n",
    "# Calculamos la matriz de confusión\n",
    "cm = confusion_matrix(y_test, y_hat_raw_scaled)\n",
    "print(\"La matriz de confusión: \\n\", cm)\n",
    "print(\"\\n\")\n",
    "\n",
    "# Calculamos el reporte de clasificación\n",
    "cr = classification_report(y_test, y_hat_raw_scaled)\n",
    "print(\"Reporte de clasificación: \\n\", cr)"
   ]
  },
  {
   "cell_type": "markdown",
   "id": "7e284929-f119-4dce-af04-fe48f55c3f9b",
   "metadata": {},
   "source": [
    "- Este modelo tiene un buen valor de score, pero sigue siendo un poco mejor solamente usar los valores numericos escalados para reg. logística."
   ]
  },
  {
   "cell_type": "markdown",
   "id": "dcd0d07b-6f28-4a59-93bd-354d99328697",
   "metadata": {},
   "source": [
    "### Analizamos este modelo de regresión logística con las variables numéricas transformadas"
   ]
  },
  {
   "cell_type": "code",
   "execution_count": 122,
   "id": "801b7244-4d34-4937-a4fe-df2b49a394e6",
   "metadata": {},
   "outputs": [],
   "source": [
    "# Definimos las variables que vamos a transformar\n",
    "bc_tranformed = ['danceability', 'duration', 'energy', 'liveness', 'speechiness', 'tempo']\n",
    "yj_tranformed = ['danceability', 'duration', 'energy', 'liveness', 'speechiness', 'tempo','loudness']"
   ]
  },
  {
   "cell_type": "code",
   "execution_count": 123,
   "id": "7674bafa-e20d-4c1f-adb2-3bca5cf68a0e",
   "metadata": {},
   "outputs": [
    {
     "data": {
      "text/plain": [
       "(600, 6)"
      ]
     },
     "execution_count": 123,
     "metadata": {},
     "output_type": "execute_result"
    }
   ],
   "source": [
    "X_train_t = X_train[bc_tranformed]\n",
    "X_train_t.shape"
   ]
  },
  {
   "cell_type": "code",
   "execution_count": 124,
   "id": "8df1b331-c6ef-4211-b55c-02533a537329",
   "metadata": {},
   "outputs": [],
   "source": [
    "X_test_t = X_test[bc_tranformed]"
   ]
  },
  {
   "cell_type": "code",
   "execution_count": 125,
   "id": "5e6cb761-51ad-4fdc-a6ce-cc971e8b47b1",
   "metadata": {},
   "outputs": [],
   "source": [
    "# Realizamos la transformación\n",
    "bc = PowerTransformer(method='box-cox')\n",
    "X_train_t = bc.fit_transform(X_train_t)"
   ]
  },
  {
   "cell_type": "code",
   "execution_count": 126,
   "id": "402261d3-887f-4998-8bd4-1a1a37bed345",
   "metadata": {},
   "outputs": [],
   "source": [
    "X_test_t = bc.transform(X_test_t)"
   ]
  },
  {
   "cell_type": "code",
   "execution_count": 127,
   "id": "ba8fe958-bd27-482e-b446-42b3d75318b2",
   "metadata": {},
   "outputs": [],
   "source": [
    "X_train_t = pd.DataFrame(X_train_t, columns=bc_tranformed)\n",
    "X_test_t = pd.DataFrame(X_test_t, columns=bc_tranformed)"
   ]
  },
  {
   "cell_type": "code",
   "execution_count": 128,
   "id": "3035fd0c-037c-4c07-9292-10a8407fc835",
   "metadata": {},
   "outputs": [
    {
     "data": {
      "text/plain": [
       "LogisticRegression()"
      ]
     },
     "execution_count": 128,
     "metadata": {},
     "output_type": "execute_result"
    }
   ],
   "source": [
    "# Modelamos con este dataset\n",
    "log_reg_t = LogisticRegression()\n",
    "log_reg_t.fit(X_train_t, y_train)"
   ]
  },
  {
   "cell_type": "code",
   "execution_count": 129,
   "id": "0be6f151-2495-4ecf-a80d-5f6615701445",
   "metadata": {},
   "outputs": [
    {
     "name": "stdout",
     "output_type": "stream",
     "text": [
      "La matriz de confusión: \n",
      " [[42 12]\n",
      " [20 76]]\n",
      "\n",
      "\n",
      "Reporte de clasificación: \n",
      "               precision    recall  f1-score   support\n",
      "\n",
      "           0       0.68      0.78      0.72        54\n",
      "           1       0.86      0.79      0.83        96\n",
      "\n",
      "    accuracy                           0.79       150\n",
      "   macro avg       0.77      0.78      0.78       150\n",
      "weighted avg       0.80      0.79      0.79       150\n",
      "\n"
     ]
    }
   ],
   "source": [
    "# Predecimos los valores\n",
    "y_hat_t = log_reg_t.predict(X_test_t)\n",
    "\n",
    "# Calculamos la matriz de confusión\n",
    "cm = confusion_matrix(y_test, y_hat_t)\n",
    "print(\"La matriz de confusión: \\n\", cm)\n",
    "print(\"\\n\")\n",
    "\n",
    "# Calculamos el reporte de clasificación\n",
    "cr = classification_report(y_test, y_hat_t)\n",
    "print(\"Reporte de clasificación: \\n\", cr)"
   ]
  },
  {
   "cell_type": "markdown",
   "id": "de913d1c-87fc-4bbe-98a3-186b7763bde3",
   "metadata": {},
   "source": [
    "- Usando solamente los features que pueden transformarse con Box-Cox, el score queda muy similar a cuando se usa el escalado numerico y las categóricas."
   ]
  },
  {
   "cell_type": "code",
   "execution_count": 131,
   "id": "270c1ada-b3c3-47da-9d12-139b54f9f9ef",
   "metadata": {},
   "outputs": [
    {
     "name": "stdout",
     "output_type": "stream",
     "text": [
      "La matriz de confusión: \n",
      " [[42 12]\n",
      " [20 76]]\n",
      "\n",
      "\n",
      "Reporte de clasificación: \n",
      "               precision    recall  f1-score   support\n",
      "\n",
      "           0       0.68      0.78      0.72        54\n",
      "           1       0.86      0.79      0.83        96\n",
      "\n",
      "    accuracy                           0.79       150\n",
      "   macro avg       0.77      0.78      0.78       150\n",
      "weighted avg       0.80      0.79      0.79       150\n",
      "\n"
     ]
    }
   ],
   "source": [
    "# Probamos ahora usando Yeo-Johnson y sumando loudness\n",
    "X_train_t = X_train[yj_tranformed]\n",
    "X_test_t = X_test[yj_tranformed]\n",
    "\n",
    "yj = PowerTransformer(method='yeo-johnson')\n",
    "X_train_t = yj.fit_transform(X_train_t)\n",
    "X_test_t = yj.transform(X_test_t)\n",
    "\n",
    "X_train_t = pd.DataFrame(X_train_t, columns=yj_tranformed)\n",
    "X_test_t = pd.DataFrame(X_test_t, columns=yj_tranformed)\n",
    "\n",
    "log_reg_t = LogisticRegression()\n",
    "log_reg_t.fit(X_train_t, y_train)\n",
    "\n",
    "# Predecimos los valores\n",
    "y_hat_t = log_reg_t.predict(X_test_t)\n",
    "\n",
    "# Calculamos la matriz de confusión\n",
    "cm = confusion_matrix(y_test, y_hat_t)\n",
    "print(\"La matriz de confusión: \\n\", cm)\n",
    "print(\"\\n\")\n",
    "\n",
    "# Calculamos el reporte de clasificación\n",
    "cr = classification_report(y_test, y_hat_t)\n",
    "print(\"Reporte de clasificación: \\n\", cr)"
   ]
  },
  {
   "cell_type": "markdown",
   "id": "d54d2769-bc0b-4217-8871-0f1d7dc58b72",
   "metadata": {},
   "source": [
    "- Mejoro un poco al agregar loudness y transformar todo con Yeo-Johnson."
   ]
  },
  {
   "cell_type": "markdown",
   "id": "663f583e-17b6-473e-ae7b-e594596067b6",
   "metadata": {},
   "source": [
    "## Aplicamos árbol de clasificación"
   ]
  },
  {
   "cell_type": "code",
   "execution_count": 134,
   "id": "1b4b1342-ca39-4e6e-b2f0-321d48f1dca1",
   "metadata": {},
   "outputs": [],
   "source": [
    "from sklearn.tree import DecisionTreeClassifier\n",
    "\n",
    "# Creamos el arbol\n",
    "classification = DecisionTreeClassifier(criterion='entropy', splitter='best', max_depth=None, min_samples_split=2, min_samples_leaf=1, random_state=42)"
   ]
  },
  {
   "cell_type": "code",
   "execution_count": 135,
   "id": "7480803b-073b-4bff-b9fc-27da608c77f1",
   "metadata": {},
   "outputs": [
    {
     "data": {
      "text/plain": [
       "DecisionTreeClassifier(criterion='entropy', random_state=42)"
      ]
     },
     "execution_count": 135,
     "metadata": {},
     "output_type": "execute_result"
    }
   ],
   "source": [
    "# Clasificamos primero con los sets sin modificaciones\n",
    "classification.fit(X_train, y_train)"
   ]
  },
  {
   "cell_type": "code",
   "execution_count": 136,
   "id": "ee07aad1-b4ab-407e-a7a1-6c9f26273bea",
   "metadata": {},
   "outputs": [
    {
     "name": "stdout",
     "output_type": "stream",
     "text": [
      "La matriz de confusión: \n",
      " [[35 19]\n",
      " [20 76]]\n",
      "\n",
      "\n",
      "Reporte de clasificación: \n",
      "               precision    recall  f1-score   support\n",
      "\n",
      "           0       0.64      0.65      0.64        54\n",
      "           1       0.80      0.79      0.80        96\n",
      "\n",
      "    accuracy                           0.74       150\n",
      "   macro avg       0.72      0.72      0.72       150\n",
      "weighted avg       0.74      0.74      0.74       150\n",
      "\n"
     ]
    }
   ],
   "source": [
    "# Predecimos los valores\n",
    "y_hat = classification.predict(X_test)\n",
    "\n",
    "# Calculamos la matriz de confusión\n",
    "cm = confusion_matrix(y_test, y_hat)\n",
    "print(\"La matriz de confusión: \\n\", cm)\n",
    "print(\"\\n\")\n",
    "\n",
    "# Calculamos el reporte de clasificación\n",
    "cr = classification_report(y_test, y_hat)\n",
    "print(\"Reporte de clasificación: \\n\", cr)"
   ]
  },
  {
   "cell_type": "markdown",
   "id": "ffad6b05-6aac-46e1-9bad-c4eb47371e10",
   "metadata": {},
   "source": [
    "- Con el árbol de clasificación sin hacer ningún tipo de modificación en los datos, tenemos el mejor score de todos los realizados con regresión logística."
   ]
  },
  {
   "cell_type": "markdown",
   "id": "b2df195d-bc2b-4721-9ec4-a0cffde95551",
   "metadata": {},
   "source": [
    "## Vemos random forests"
   ]
  },
  {
   "cell_type": "code",
   "execution_count": 256,
   "id": "87b7b85c-e0a0-4ef1-8d77-ab51bf22bb56",
   "metadata": {},
   "outputs": [
    {
     "data": {
      "text/plain": [
       "RandomForestClassifier(criterion='entropy', random_state=42)"
      ]
     },
     "execution_count": 256,
     "metadata": {},
     "output_type": "execute_result"
    }
   ],
   "source": [
    "rand_for = RandomForestClassifier(criterion='entropy', max_depth=None, min_samples_split=2, min_samples_leaf=1, random_state=42)\n",
    "rand_for.fit(X_train, y_train)"
   ]
  },
  {
   "cell_type": "code",
   "execution_count": 258,
   "id": "09700c80-31dc-410e-8af8-0732eb61ff86",
   "metadata": {},
   "outputs": [
    {
     "name": "stdout",
     "output_type": "stream",
     "text": [
      "La matriz de confusión: \n",
      " [[43 11]\n",
      " [13 83]]\n",
      "\n",
      "\n",
      "Reporte de clasificación: \n",
      "               precision    recall  f1-score   support\n",
      "\n",
      "           0       0.77      0.80      0.78        54\n",
      "           1       0.88      0.86      0.87        96\n",
      "\n",
      "    accuracy                           0.84       150\n",
      "   macro avg       0.83      0.83      0.83       150\n",
      "weighted avg       0.84      0.84      0.84       150\n",
      "\n"
     ]
    }
   ],
   "source": [
    "# Predecimos los valores\n",
    "y_hat = rand_for.predict(X_test)\n",
    "\n",
    "# Calculamos la matriz de confusión\n",
    "cm = confusion_matrix(y_test, y_hat)\n",
    "print(\"La matriz de confusión: \\n\", cm)\n",
    "print(\"\\n\")\n",
    "\n",
    "# Calculamos el reporte de clasificación\n",
    "cr = classification_report(y_test, y_hat)\n",
    "print(\"Reporte de clasificación: \\n\", cr)"
   ]
  },
  {
   "cell_type": "markdown",
   "id": "be6eaef6-81e1-4cba-bed3-20f14a2d2abb",
   "metadata": {},
   "source": [
    "- Se obtiene así el mejor valor de score hasta el momento."
   ]
  },
  {
   "cell_type": "code",
   "execution_count": 286,
   "id": "dba3d69c-4ad6-4b1f-a359-3349c8a337ab",
   "metadata": {},
   "outputs": [
    {
     "name": "stdout",
     "output_type": "stream",
     "text": [
      "Modelo con todos los atributos AUC: 0.8974729938271605\n"
     ]
    },
    {
     "data": {
      "image/png": "[encoded data removed]",
      "text/plain": [
       "<Figure size 432x288 with 1 Axes>"
      ]
     },
     "metadata": {
      "needs_background": "light"
     },
     "output_type": "display_data"
    }
   ],
   "source": [
    "# Calculamos la probabilidad del modelo\n",
    "prob_total = rand_for.predict_proba(X_test)[:, -1] # para llevarlo a 1-d\n",
    "\n",
    "# Realizamos la curva roc\n",
    "fpr_total, tpr_total, _ = roc_curve(y_true=y_test, y_score=prob_total)\n",
    "\n",
    "# Ploteamos la curva\n",
    "plt.plot(fpr_total, tpr_total, label=\"Modelo todos los atributos\")\n",
    "plt.xlim([-0.01, 1.01])\n",
    "plt.ylim([-0.01, 1.01])\n",
    "plt.xlabel(\"Tasa de falsos positivos\")\n",
    "plt.ylabel(\"Tasa de verdaderos positivos\")\n",
    "\n",
    "# Calculamos el auc\n",
    "print(f\"Modelo con todos los atributos AUC: {auc(fpr_total, tpr_total)}\")"
   ]
  },
  {
   "cell_type": "code",
   "execution_count": 294,
   "id": "857c093e-2dc9-43fb-a247-5e22d0613b94",
   "metadata": {},
   "outputs": [
    {
     "name": "stdout",
     "output_type": "stream",
     "text": [
      "La matriz de confusión: \n",
      " [[44 10]\n",
      " [14 82]]\n",
      "\n",
      "\n",
      "Reporte de clasificación: \n",
      "               precision    recall  f1-score   support\n",
      "\n",
      "           0       0.76      0.81      0.79        54\n",
      "           1       0.89      0.85      0.87        96\n",
      "\n",
      "    accuracy                           0.84       150\n",
      "   macro avg       0.82      0.83      0.83       150\n",
      "weighted avg       0.84      0.84      0.84       150\n",
      "\n"
     ]
    }
   ],
   "source": [
    "# Usamos Gini como criterio \n",
    "rand_for_gini = RandomForestClassifier(criterion='gini', max_depth=None, min_samples_split=2, min_samples_leaf=1, random_state=42)\n",
    "rand_for_gini.fit(X_train, y_train)\n",
    "\n",
    "# Predecimos los valores\n",
    "y_hat = rand_for_gini.predict(X_test)\n",
    "\n",
    "# Calculamos la matriz de confusión\n",
    "cm = confusion_matrix(y_test, y_hat)\n",
    "print(\"La matriz de confusión: \\n\", cm)\n",
    "print(\"\\n\")\n",
    "\n",
    "# Calculamos el reporte de clasificación\n",
    "cr = classification_report(y_test, y_hat)\n",
    "print(\"Reporte de clasificación: \\n\", cr)"
   ]
  },
  {
   "cell_type": "code",
   "execution_count": 296,
   "id": "a5fbd8f7-cca0-4d37-8d9a-7c05a3002e08",
   "metadata": {},
   "outputs": [
    {
     "name": "stdout",
     "output_type": "stream",
     "text": [
      "Modelo con todos los atributos AUC: 0.9048996913580247\n"
     ]
    },
    {
     "data": {
      "image/png": "[encoded data removed]",
      "text/plain": [
       "<Figure size 432x288 with 1 Axes>"
      ]
     },
     "metadata": {
      "needs_background": "light"
     },
     "output_type": "display_data"
    }
   ],
   "source": [
    "# Calculamos la probabilidad del modelo\n",
    "prob_total_gini = rand_for_gini.predict_proba(X_test)[:, -1] # para llevarlo a 1-d\n",
    "\n",
    "# Realizamos la curva roc\n",
    "fpr_total, tpr_total, _ = roc_curve(y_true=y_test, y_score=prob_total_gini)\n",
    "\n",
    "# Ploteamos la curva\n",
    "plt.plot(fpr_total, tpr_total, label=\"Modelo todos los atributos\")\n",
    "plt.xlim([-0.01, 1.01])\n",
    "plt.ylim([-0.01, 1.01])\n",
    "plt.xlabel(\"Tasa de falsos positivos\")\n",
    "plt.ylabel(\"Tasa de verdaderos positivos\")\n",
    "\n",
    "# Calculamos el auc\n",
    "print(f\"Modelo con todos los atributos AUC: {auc(fpr_total, tpr_total)}\")"
   ]
  },
  {
   "cell_type": "markdown",
   "id": "224898e4-e62d-4ed4-9d81-2e49d1e5a6e8",
   "metadata": {},
   "source": [
    " - Mejora el área bajo la curva roc con el criterio de gini."
   ]
  },
  {
   "cell_type": "markdown",
   "id": "da7122e0-b0a1-4357-9617-75a3dd6ef10f",
   "metadata": {},
   "source": [
    "## Adaboost classifier"
   ]
  },
  {
   "cell_type": "code",
   "execution_count": 144,
   "id": "050c56b0-e9b3-4639-94f8-52e066ccb1d3",
   "metadata": {},
   "outputs": [
    {
     "data": {
      "text/plain": [
       "AdaBoostClassifier()"
      ]
     },
     "execution_count": 144,
     "metadata": {},
     "output_type": "execute_result"
    }
   ],
   "source": [
    "ada = AdaBoostClassifier()\n",
    "ada.fit(X_train, y_train)"
   ]
  },
  {
   "cell_type": "code",
   "execution_count": 145,
   "id": "f5d12998-17fa-4975-b6c7-4291d2a36716",
   "metadata": {},
   "outputs": [
    {
     "name": "stdout",
     "output_type": "stream",
     "text": [
      "La matriz de confusión: \n",
      " [[40 14]\n",
      " [20 76]]\n",
      "\n",
      "\n",
      "Reporte de clasificación: \n",
      "               precision    recall  f1-score   support\n",
      "\n",
      "           0       0.67      0.74      0.70        54\n",
      "           1       0.84      0.79      0.82        96\n",
      "\n",
      "    accuracy                           0.77       150\n",
      "   macro avg       0.76      0.77      0.76       150\n",
      "weighted avg       0.78      0.77      0.78       150\n",
      "\n"
     ]
    }
   ],
   "source": [
    "# Predecimos los valores\n",
    "y_hat = ada.predict(X_test)\n",
    "\n",
    "# Calculamos la matriz de confusión\n",
    "cm = confusion_matrix(y_test, y_hat)\n",
    "print(\"La matriz de confusión: \\n\", cm)\n",
    "print(\"\\n\")\n",
    "\n",
    "# Calculamos el reporte de clasificación\n",
    "cr = classification_report(y_test, y_hat)\n",
    "print(\"Reporte de clasificación: \\n\", cr)"
   ]
  },
  {
   "cell_type": "markdown",
   "id": "77c77a6a-61dd-46a0-99e2-605490f78528",
   "metadata": {},
   "source": [
    "- Empeoró, pero probablemente se deba a que está mal aplicado."
   ]
  },
  {
   "cell_type": "markdown",
   "id": "d9d3a42e-21f2-4c7e-862b-f47135a0399f",
   "metadata": {},
   "source": [
    "## Aplicamos KNN Classifier"
   ]
  },
  {
   "cell_type": "code",
   "execution_count": 343,
   "id": "d4662962-04c2-42d4-a162-91e67714c2d6",
   "metadata": {},
   "outputs": [
    {
     "data": {
      "text/plain": [
       "KNeighborsClassifier(n_neighbors=9)"
      ]
     },
     "execution_count": 343,
     "metadata": {},
     "output_type": "execute_result"
    }
   ],
   "source": [
    "# Usamos los datos escalados para usar este tipo de clasificador\n",
    "classifier_knn_total = KNeighborsClassifier(n_neighbors=9, metric=\"minkowski\", p=2)\n",
    "classifier_knn_total.fit(X_train_raw_scaled, y_train)"
   ]
  },
  {
   "cell_type": "code",
   "execution_count": 345,
   "id": "8c4a70cf-927f-4e52-aca1-97ad2f5eef44",
   "metadata": {},
   "outputs": [
    {
     "name": "stdout",
     "output_type": "stream",
     "text": [
      "La matriz de confusión: \n",
      " [[36 18]\n",
      " [ 8 88]]\n",
      "\n",
      "\n",
      "Reporte de clasificación: \n",
      "               precision    recall  f1-score   support\n",
      "\n",
      "           0       0.82      0.67      0.73        54\n",
      "           1       0.83      0.92      0.87        96\n",
      "\n",
      "    accuracy                           0.83       150\n",
      "   macro avg       0.82      0.79      0.80       150\n",
      "weighted avg       0.83      0.83      0.82       150\n",
      "\n",
      "Modelo con todos los atributos AUC: 0.8603395061728395\n"
     ]
    },
    {
     "data": {
      "image/png": "[encoded data removed]",
      "text/plain": [
       "<Figure size 432x288 with 1 Axes>"
      ]
     },
     "metadata": {
      "needs_background": "light"
     },
     "output_type": "display_data"
    }
   ],
   "source": [
    "# Predecimos los valores\n",
    "y_hat_KNN = classifier_knn_total.predict(X_test_raw_scaled)\n",
    "\n",
    "# Calculamos la matriz de confusión\n",
    "cm = confusion_matrix(y_test, y_hat_KNN)\n",
    "print(\"La matriz de confusión: \\n\", cm)\n",
    "print(\"\\n\")\n",
    "\n",
    "# Calculamos el reporte de clasificación\n",
    "cr = classification_report(y_test, y_hat_KNN)\n",
    "print(\"Reporte de clasificación: \\n\", cr)\n",
    "\n",
    "# Calculamos la probabilidad del modelo\n",
    "prob_total_KNN = classifier_knn_total.predict_proba(X_test_raw_scaled)[:, -1] # para llevarlo a 1-d\n",
    "\n",
    "# Realizamos la curva roc\n",
    "fpr_total, tpr_total, _ = roc_curve(y_true=y_test, y_score=prob_total_KNN)\n",
    "\n",
    "# Ploteamos la curva\n",
    "plt.plot(fpr_total, tpr_total, label=\"Modelo todos los atributos\")\n",
    "plt.xlim([-0.01, 1.01])\n",
    "plt.ylim([-0.01, 1.01])\n",
    "plt.xlabel(\"Tasa de falsos positivos\")\n",
    "plt.ylabel(\"Tasa de verdaderos positivos\")\n",
    "\n",
    "# Calculamos el auc\n",
    "print(f\"Modelo con todos los atributos AUC: {auc(fpr_total, tpr_total)}\")"
   ]
  },
  {
   "cell_type": "markdown",
   "id": "b81650f1-66c6-47b3-bc34-0f449eadc5a5",
   "metadata": {},
   "source": [
    "- Elegimos un valor de 9 porque fue uno de los primeros valores mayores que obtuvimos. No es tan mal clasificador."
   ]
  },
  {
   "cell_type": "markdown",
   "id": "50556e3c-4994-4d59-9cda-45739306409b",
   "metadata": {},
   "source": [
    "## Aplicamos SVM"
   ]
  },
  {
   "cell_type": "code",
   "execution_count": null,
   "id": "cf811349-5bf0-4a17-98a4-72724973dfe5",
   "metadata": {},
   "outputs": [],
   "source": []
  },
  {
   "cell_type": "code",
   "execution_count": null,
   "id": "066cfacf-4162-4cfa-b4e2-001b7801b94e",
   "metadata": {},
   "outputs": [],
   "source": [
    "# Podemos aprovechar hacer un GridSearch\n"
   ]
  }
 ],
 "metadata": {
  "kernelspec": {
   "display_name": "anaconda-2022.05-py39",
   "language": "python",
   "name": "conda-env-anaconda-2022.05-py39-py"
  },
  "language_info": {
   "codemirror_mode": {
    "name": "ipython",
    "version": 3
   },
   "file_extension": ".py",
   "mimetype": "text/x-python",
   "name": "python",
   "nbconvert_exporter": "python",
   "pygments_lexer": "ipython3",
   "version": "3.9.12"
  }
 },
 "nbformat": 4,
 "nbformat_minor": 5
}
